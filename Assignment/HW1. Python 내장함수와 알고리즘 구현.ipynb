{
 "cells": [
  {
   "cell_type": "markdown",
   "metadata": {},
   "source": [
    "* 제출자: 정윤성\n",
    "* 제출일: 2021-08-05\n",
    "* 미완료로 제출하지만 계속 풀 예정입니다"
   ]
  },
  {
   "cell_type": "markdown",
   "metadata": {
    "id": "lh1cyX2mj_4V"
   },
   "source": [
    "# 과제 1. 나만의 python & 알고리즘 함수 만들기\n",
    "## 1. 파이썬 내장함수 만들기\n",
    "Python에는 사용자의 편의를 위해서 여러가지 함수를 내장하고 있다. 다음 사진이 python 내장함수의 목록을 보여준다.\n",
    "\n",
    "<p align=\"center\"><img src=\"https://wikidocs.net/images/page/14598/2-1.png\" width=\"600px\"></p>\n",
    "\n",
    "자세한 내용은 [링크](https://docs.python.org/ko/3/library/functions.html)에서 확인해 볼 수 있으며, 문서 안에서 몇 가지 예시를 제시하고 있다. 다음은 python 공식 문서에서 제시하는 `all` 함수의 예시를 `my_all` 함수로 재작성한 예시이다."
   ]
  },
  {
   "cell_type": "code",
   "execution_count": 1,
   "metadata": {
    "id": "KtICkC5sj_4X",
    "outputId": "668a4b4a-8e56-42e4-e959-f87fb68ad63b"
   },
   "outputs": [
    {
     "name": "stdout",
     "output_type": "stream",
     "text": [
      "통과\n"
     ]
    }
   ],
   "source": [
    "def my_all(iterable):\n",
    "    for element in iterable:\n",
    "        if not element:\n",
    "            return False\n",
    "    return True\n",
    "\n",
    "test1 = [True, 7 == 4, 3 > 7, False]\n",
    "test2 = [3 < 5, 10 == 10, True, 'something']\n",
    "\n",
    "# Assert 문은 이하의 식의 참인지 검사합니다.\n",
    "assert all(test1) == my_all(test1) == False\n",
    "assert all(test2) == my_all(test2) == True\n",
    "\n",
    "print(\"통과\")"
   ]
  },
  {
   "cell_type": "markdown",
   "metadata": {
    "id": "Z6GUKRRQj_4Z"
   },
   "source": [
    "아래의 함수들은 자주 사용되는 내장 함수들의 목록이다. 위의 코드 예시와 같이 몇 가지 함수들을 다른 함수를 쓰지 않고 따라 만들어보자. \\\n",
    "(단, 편의를 위해 엄격하게 만들지 않고 test를 통과할 정도만 작성하여도 무방하다.)"
   ]
  },
  {
   "cell_type": "markdown",
   "metadata": {
    "id": "UrC-IOlfj_4Z"
   },
   "source": [
    "### 1-1. abs"
   ]
  },
  {
   "cell_type": "code",
   "execution_count": 5,
   "metadata": {
    "id": "RCpeIZx8j_4a"
   },
   "outputs": [
    {
     "name": "stdout",
     "output_type": "stream",
     "text": [
      "통과\n"
     ]
    }
   ],
   "source": [
    "def my_abs(number):\n",
    "    return (number**2)**0.5\n",
    "\n",
    "test1 = 1.7\n",
    "test2 = -8\n",
    "assert abs(test1) == my_abs(test1)\n",
    "assert abs(test2) == my_abs(test2)\n",
    "print(\"통과\")"
   ]
  },
  {
   "cell_type": "code",
   "execution_count": null,
   "metadata": {},
   "outputs": [],
   "source": [
    "def my_abs(number):\n",
    "    return number if number > 0 else -number\n",
    "\n",
    "test1 = 1.7\n",
    "test2 = -8\n",
    "assert abs(test1) == my_abs(test1)\n",
    "assert abs(test2) == my_abs(test2)\n",
    "print(\"통과\")"
   ]
  },
  {
   "cell_type": "markdown",
   "metadata": {
    "id": "sBqLryIxj_4a"
   },
   "source": [
    "### 1-2. round"
   ]
  },
  {
   "cell_type": "code",
   "execution_count": 58,
   "metadata": {
    "id": "xaEfCMwmj_4a"
   },
   "outputs": [
    {
     "name": "stdout",
     "output_type": "stream",
     "text": [
      "통과\n"
     ]
    }
   ],
   "source": [
    "import math\n",
    "\n",
    "def my_round(number, ndigits=None):\n",
    "#    if number - int(number) > 0.5:\n",
    "#        number = int(math.ceil(number))\n",
    "#    else:\n",
    "#        number = int(number)\n",
    "#    \n",
    "#    return number\n",
    "\n",
    "    if ndigits == None:\n",
    "        integer = str(number).split('.')[0]\n",
    "        number = str(number).split('.')[-1][0]\n",
    "        if int(number) >= 5:\n",
    "            return int(integer) + 1\n",
    "        else:\n",
    "            return int(integer)\n",
    "        \n",
    "    else:\n",
    "        integer = str(number).split('.')[0]\n",
    "        number = str(number).split('.')[-1][:ndigits + 1]\n",
    "        if int(number[-1]) >= 5:\n",
    "            flo = str(int(number[:-1])+1)\n",
    "        else:\n",
    "            flo = str(int(number[:-1]))\n",
    "        result = float(integer+'.'+flo)\n",
    "        \n",
    "        return result\n",
    "        \n",
    "\n",
    "test = 1.74789\n",
    "assert round(test) == my_round(test)\n",
    "assert round(test, 3) == my_round(test, 3)\n",
    "assert round(-test, 2) == my_round(-test, 2)\n",
    "print(\"통과\")"
   ]
  },
  {
   "cell_type": "code",
   "execution_count": 29,
   "metadata": {},
   "outputs": [
    {
     "ename": "TypeError",
     "evalue": "unsupported operand type(s) for ** or pow(): 'int' and 'NoneType'",
     "output_type": "error",
     "traceback": [
      "\u001B[1;31m---------------------------------------------------------------------------\u001B[0m",
      "\u001B[1;31mTypeError\u001B[0m                                 Traceback (most recent call last)",
      "\u001B[1;32m<ipython-input-29-ba5b3fea7845>\u001B[0m in \u001B[0;36m<module>\u001B[1;34m\u001B[0m\n\u001B[0;32m      7\u001B[0m \u001B[1;33m\u001B[0m\u001B[0m\n\u001B[0;32m      8\u001B[0m \u001B[0mtest\u001B[0m \u001B[1;33m=\u001B[0m \u001B[1;36m1.74789\u001B[0m\u001B[1;33m\u001B[0m\u001B[1;33m\u001B[0m\u001B[0m\n\u001B[1;32m----> 9\u001B[1;33m \u001B[1;32massert\u001B[0m \u001B[0mround\u001B[0m\u001B[1;33m(\u001B[0m\u001B[0mtest\u001B[0m\u001B[1;33m)\u001B[0m \u001B[1;33m==\u001B[0m \u001B[0mmy_round\u001B[0m\u001B[1;33m(\u001B[0m\u001B[0mtest\u001B[0m\u001B[1;33m)\u001B[0m\u001B[1;33m\u001B[0m\u001B[1;33m\u001B[0m\u001B[0m\n\u001B[0m\u001B[0;32m     10\u001B[0m \u001B[1;32massert\u001B[0m \u001B[0mround\u001B[0m\u001B[1;33m(\u001B[0m\u001B[0mtest\u001B[0m\u001B[1;33m,\u001B[0m \u001B[1;36m3\u001B[0m\u001B[1;33m)\u001B[0m \u001B[1;33m==\u001B[0m \u001B[0mmy_round\u001B[0m\u001B[1;33m(\u001B[0m\u001B[0mtest\u001B[0m\u001B[1;33m,\u001B[0m \u001B[1;36m3\u001B[0m\u001B[1;33m)\u001B[0m\u001B[1;33m\u001B[0m\u001B[1;33m\u001B[0m\u001B[0m\n\u001B[0;32m     11\u001B[0m \u001B[1;32massert\u001B[0m \u001B[0mround\u001B[0m\u001B[1;33m(\u001B[0m\u001B[1;33m-\u001B[0m\u001B[0mtest\u001B[0m\u001B[1;33m,\u001B[0m \u001B[1;36m2\u001B[0m\u001B[1;33m)\u001B[0m \u001B[1;33m==\u001B[0m \u001B[0mmy_round\u001B[0m\u001B[1;33m(\u001B[0m\u001B[1;33m-\u001B[0m\u001B[0mtest\u001B[0m\u001B[1;33m,\u001B[0m \u001B[1;36m2\u001B[0m\u001B[1;33m)\u001B[0m\u001B[1;33m\u001B[0m\u001B[1;33m\u001B[0m\u001B[0m\n",
      "\u001B[1;32m<ipython-input-29-ba5b3fea7845>\u001B[0m in \u001B[0;36mmy_round\u001B[1;34m(number, ndigits)\u001B[0m\n\u001B[0;32m      4\u001B[0m     \u001B[1;32mif\u001B[0m \u001B[0mndigits\u001B[0m \u001B[1;32mis\u001B[0m \u001B[1;32mNone\u001B[0m\u001B[1;33m:\u001B[0m\u001B[1;33m\u001B[0m\u001B[1;33m\u001B[0m\u001B[0m\n\u001B[0;32m      5\u001B[0m         \u001B[0mint\u001B[0m\u001B[1;33m(\u001B[0m\u001B[0mnumber\u001B[0m\u001B[1;33m)\u001B[0m \u001B[1;33m+\u001B[0m \u001B[0mint\u001B[0m\u001B[1;33m(\u001B[0m\u001B[1;33m(\u001B[0m\u001B[0mnumber\u001B[0m \u001B[1;33m-\u001B[0m \u001B[0mint\u001B[0m\u001B[1;33m(\u001B[0m\u001B[0mnumber\u001B[0m\u001B[1;33m)\u001B[0m\u001B[1;33m)\u001B[0m \u001B[1;33m*\u001B[0m \u001B[1;36m2\u001B[0m\u001B[1;33m)\u001B[0m \u001B[1;31m#소수점 이하점 끊기\u001B[0m\u001B[1;33m\u001B[0m\u001B[1;33m\u001B[0m\u001B[0m\n\u001B[1;32m----> 6\u001B[1;33m     \u001B[1;32mreturn\u001B[0m \u001B[0mmy_round\u001B[0m\u001B[1;33m(\u001B[0m\u001B[0mnumber\u001B[0m \u001B[1;33m*\u001B[0m \u001B[1;36m10\u001B[0m \u001B[1;33m**\u001B[0m \u001B[0mndigits\u001B[0m\u001B[1;33m)\u001B[0m \u001B[1;33m/\u001B[0m \u001B[1;36m10\u001B[0m \u001B[1;33m**\u001B[0m \u001B[0mndigits\u001B[0m\u001B[1;33m\u001B[0m\u001B[1;33m\u001B[0m\u001B[0m\n\u001B[0m\u001B[0;32m      7\u001B[0m \u001B[1;33m\u001B[0m\u001B[0m\n\u001B[0;32m      8\u001B[0m \u001B[0mtest\u001B[0m \u001B[1;33m=\u001B[0m \u001B[1;36m1.74789\u001B[0m\u001B[1;33m\u001B[0m\u001B[1;33m\u001B[0m\u001B[0m\n",
      "\u001B[1;31mTypeError\u001B[0m: unsupported operand type(s) for ** or pow(): 'int' and 'NoneType'"
     ]
    }
   ],
   "source": [
    "import math\n",
    "\n",
    "def my_round(number, ndigits=None):\n",
    "    if ndigits is None:\n",
    "        int(number) + int((number - int(number)) * 2) #소수점 이하점 끊기\n",
    "    return my_round(number * 10 ** ndigits) / 10 ** ndigits\n",
    "\n",
    "test = 1.74789\n",
    "assert round(test) == my_round(test)\n",
    "assert round(test, 3) == my_round(test, 3)\n",
    "assert round(-test, 2) == my_round(-test, 2)\n",
    "print(\"통과\")"
   ]
  },
  {
   "cell_type": "markdown",
   "metadata": {
    "id": "PTJk84oPj_4b"
   },
   "source": [
    "### 1-3. any"
   ]
  },
  {
   "cell_type": "code",
   "execution_count": 35,
   "metadata": {
    "id": "bnBMZp3qj_4b"
   },
   "outputs": [
    {
     "name": "stdout",
     "output_type": "stream",
     "text": [
      "통과\n"
     ]
    }
   ],
   "source": [
    "def my_any(iterable):\n",
    "    for item in iterable:\n",
    "        if item:\n",
    "            return True\n",
    "        else:\n",
    "            return False\n",
    "\n",
    "test1 = [True, 7 == 4, 'Something', False]\n",
    "test2 = [3 > 5, 10 != 10, False, '', None]\n",
    "assert any(test1) == my_any(test1)\n",
    "assert any(test2) == my_any(test2)\n",
    "print(\"통과\")"
   ]
  },
  {
   "cell_type": "code",
   "execution_count": null,
   "metadata": {},
   "outputs": [],
   "source": [
    "def my_any(iterable):\n",
    "    for elem in iterable:\n",
    "        if elem:\n",
    "            return True\n",
    "\n",
    "test1 = [True, 7 == 4, 'Something', False]\n",
    "test2 = [3 > 5, 10 != 10, False, '', None]\n",
    "assert any(test1) == my_any(test1)\n",
    "assert any(test2) == my_any(test2)\n",
    "print(\"통과\")"
   ]
  },
  {
   "cell_type": "markdown",
   "metadata": {
    "id": "r1a2t34Sj_4b"
   },
   "source": [
    "### 1-4. enumerate"
   ]
  },
  {
   "cell_type": "code",
   "execution_count": 36,
   "metadata": {
    "id": "Eb3wJhDJj_4c"
   },
   "outputs": [
    {
     "name": "stdout",
     "output_type": "stream",
     "text": [
      "통과\n"
     ]
    }
   ],
   "source": [
    "def my_enumerate(sequence, start=0):\n",
    "    n = start\n",
    "    for item in sequence:\n",
    "        yield n, item\n",
    "        n += 1\n",
    "\n",
    "test1 = [60, 50, 20, 10]\n",
    "test2 = [True, None, 'test']\n",
    "assert list(enumerate(test1)) == list(my_enumerate(test1))\n",
    "assert list(enumerate(test2, 12)) == list(my_enumerate(test2, 12))\n",
    "print(\"통과\")"
   ]
  },
  {
   "cell_type": "code",
   "execution_count": null,
   "metadata": {},
   "outputs": [],
   "source": [
    "def my_enumerate(sequence, start=0):\n",
    "    \n",
    "    for elem in sequence:\n",
    "        \n",
    "\n",
    "test1 = [60, 50, 20, 10]\n",
    "test2 = [True, None, 'test']\n",
    "assert list(enumerate(test1)) == list(my_enumerate(test1))\n",
    "assert list(enumerate(test2, 12)) == list(my_enumerate(test2, 12))\n",
    "print(\"통과\")"
   ]
  },
  {
   "cell_type": "markdown",
   "metadata": {
    "id": "6GhbhgNsj_4c"
   },
   "source": [
    "### 1-5. max & min"
   ]
  },
  {
   "cell_type": "code",
   "execution_count": 6,
   "metadata": {
    "id": "CPb7b92Fj_4c"
   },
   "outputs": [
    {
     "ename": "AssertionError",
     "evalue": "",
     "output_type": "error",
     "traceback": [
      "\u001B[1;31m---------------------------------------------------------------------------\u001B[0m",
      "\u001B[1;31mAssertionError\u001B[0m                            Traceback (most recent call last)",
      "\u001B[1;32m<ipython-input-6-e49703ca94e7>\u001B[0m in \u001B[0;36m<module>\u001B[1;34m\u001B[0m\n\u001B[0;32m     16\u001B[0m \u001B[1;33m\u001B[0m\u001B[0m\n\u001B[0;32m     17\u001B[0m \u001B[0mtest\u001B[0m \u001B[1;33m=\u001B[0m \u001B[1;33m[\u001B[0m\u001B[1;36m7\u001B[0m\u001B[1;33m,\u001B[0m \u001B[1;36m4\u001B[0m\u001B[1;33m,\u001B[0m \u001B[1;36m2\u001B[0m\u001B[1;33m,\u001B[0m \u001B[1;36m6\u001B[0m\u001B[1;33m,\u001B[0m \u001B[1;36m8\u001B[0m\u001B[1;33m]\u001B[0m\u001B[1;33m\u001B[0m\u001B[1;33m\u001B[0m\u001B[0m\n\u001B[1;32m---> 18\u001B[1;33m \u001B[1;32massert\u001B[0m \u001B[0mmax\u001B[0m\u001B[1;33m(\u001B[0m\u001B[0mtest\u001B[0m\u001B[1;33m)\u001B[0m \u001B[1;33m==\u001B[0m \u001B[0mmy_max\u001B[0m\u001B[1;33m(\u001B[0m\u001B[0mtest\u001B[0m\u001B[1;33m)\u001B[0m \u001B[1;32mand\u001B[0m \u001B[0mmin\u001B[0m\u001B[1;33m(\u001B[0m\u001B[0mtest\u001B[0m\u001B[1;33m)\u001B[0m \u001B[1;33m==\u001B[0m \u001B[0mmy_min\u001B[0m\u001B[1;33m(\u001B[0m\u001B[0mtest\u001B[0m\u001B[1;33m)\u001B[0m\u001B[1;33m\u001B[0m\u001B[1;33m\u001B[0m\u001B[0m\n\u001B[0m\u001B[0;32m     19\u001B[0m \u001B[1;32massert\u001B[0m \u001B[0mmax\u001B[0m\u001B[1;33m(\u001B[0m\u001B[1;36m7\u001B[0m\u001B[1;33m,\u001B[0m \u001B[1;36m4\u001B[0m\u001B[1;33m,\u001B[0m \u001B[1;36m2\u001B[0m\u001B[1;33m,\u001B[0m \u001B[1;36m5\u001B[0m\u001B[1;33m)\u001B[0m \u001B[1;33m==\u001B[0m \u001B[0mmy_max\u001B[0m\u001B[1;33m(\u001B[0m\u001B[1;36m7\u001B[0m\u001B[1;33m,\u001B[0m \u001B[1;36m4\u001B[0m\u001B[1;33m,\u001B[0m \u001B[1;36m2\u001B[0m\u001B[1;33m,\u001B[0m \u001B[1;36m5\u001B[0m\u001B[1;33m)\u001B[0m \u001B[1;32mand\u001B[0m \u001B[0mmin\u001B[0m\u001B[1;33m(\u001B[0m\u001B[1;36m7\u001B[0m\u001B[1;33m,\u001B[0m \u001B[1;36m4\u001B[0m\u001B[1;33m,\u001B[0m \u001B[1;36m2\u001B[0m\u001B[1;33m,\u001B[0m \u001B[1;36m5\u001B[0m\u001B[1;33m)\u001B[0m \u001B[1;33m==\u001B[0m \u001B[0mmy_min\u001B[0m\u001B[1;33m(\u001B[0m\u001B[1;36m7\u001B[0m\u001B[1;33m,\u001B[0m \u001B[1;36m4\u001B[0m\u001B[1;33m,\u001B[0m \u001B[1;36m2\u001B[0m\u001B[1;33m,\u001B[0m \u001B[1;36m5\u001B[0m\u001B[1;33m)\u001B[0m\u001B[1;33m\u001B[0m\u001B[1;33m\u001B[0m\u001B[0m\n\u001B[0;32m     20\u001B[0m \u001B[0mprint\u001B[0m\u001B[1;33m(\u001B[0m\u001B[1;34m\"통과\"\u001B[0m\u001B[1;33m)\u001B[0m\u001B[1;33m\u001B[0m\u001B[1;33m\u001B[0m\u001B[0m\n",
      "\u001B[1;31mAssertionError\u001B[0m: "
     ]
    }
   ],
   "source": [
    "def my_max(*args):\n",
    "    list = [item for item in args]\n",
    "    max = list[0]\n",
    "    for item in list:\n",
    "        if item > max:\n",
    "            max = item\n",
    "    return max\n",
    "\n",
    "def my_min(*args):\n",
    "    list = [item for item in args]\n",
    "    min = list[0]\n",
    "    for item in list:\n",
    "        if item > min:\n",
    "            min = item\n",
    "    return min\n",
    "\n",
    "test = [7, 4, 2, 6, 8]\n",
    "assert max(test) == my_max(test) and min(test) == my_min(test)\n",
    "assert max(7, 4, 2, 5) == my_max(7, 4, 2, 5) and min(7, 4, 2, 5) == my_min(7, 4, 2, 5)\n",
    "print(\"통과\")"
   ]
  },
  {
   "cell_type": "code",
   "execution_count": 30,
   "metadata": {},
   "outputs": [
    {
     "ename": "NameError",
     "evalue": "name 'my_list' is not defined",
     "output_type": "error",
     "traceback": [
      "\u001B[1;31m---------------------------------------------------------------------------\u001B[0m",
      "\u001B[1;31mNameError\u001B[0m                                 Traceback (most recent call last)",
      "\u001B[1;32m<ipython-input-30-5294cb755d14>\u001B[0m in \u001B[0;36m<module>\u001B[1;34m\u001B[0m\n\u001B[0;32m     21\u001B[0m \u001B[1;33m\u001B[0m\u001B[0m\n\u001B[0;32m     22\u001B[0m \u001B[0mtest\u001B[0m \u001B[1;33m=\u001B[0m \u001B[1;33m[\u001B[0m\u001B[1;36m7\u001B[0m\u001B[1;33m,\u001B[0m \u001B[1;36m4\u001B[0m\u001B[1;33m,\u001B[0m \u001B[1;36m2\u001B[0m\u001B[1;33m,\u001B[0m \u001B[1;36m6\u001B[0m\u001B[1;33m,\u001B[0m \u001B[1;36m8\u001B[0m\u001B[1;33m]\u001B[0m\u001B[1;33m\u001B[0m\u001B[1;33m\u001B[0m\u001B[0m\n\u001B[1;32m---> 23\u001B[1;33m \u001B[1;32massert\u001B[0m \u001B[0mmax\u001B[0m\u001B[1;33m(\u001B[0m\u001B[0mtest\u001B[0m\u001B[1;33m)\u001B[0m \u001B[1;33m==\u001B[0m \u001B[0mmy_max\u001B[0m\u001B[1;33m(\u001B[0m\u001B[0mtest\u001B[0m\u001B[1;33m)\u001B[0m \u001B[1;32mand\u001B[0m \u001B[0mmin\u001B[0m\u001B[1;33m(\u001B[0m\u001B[0mtest\u001B[0m\u001B[1;33m)\u001B[0m \u001B[1;33m==\u001B[0m \u001B[0mmy_min\u001B[0m\u001B[1;33m(\u001B[0m\u001B[0mtest\u001B[0m\u001B[1;33m)\u001B[0m\u001B[1;33m\u001B[0m\u001B[1;33m\u001B[0m\u001B[0m\n\u001B[0m\u001B[0;32m     24\u001B[0m \u001B[1;32massert\u001B[0m \u001B[0mmax\u001B[0m\u001B[1;33m(\u001B[0m\u001B[1;36m7\u001B[0m\u001B[1;33m,\u001B[0m \u001B[1;36m4\u001B[0m\u001B[1;33m,\u001B[0m \u001B[1;36m2\u001B[0m\u001B[1;33m,\u001B[0m \u001B[1;36m5\u001B[0m\u001B[1;33m)\u001B[0m \u001B[1;33m==\u001B[0m \u001B[0mmy_max\u001B[0m\u001B[1;33m(\u001B[0m\u001B[1;36m7\u001B[0m\u001B[1;33m,\u001B[0m \u001B[1;36m4\u001B[0m\u001B[1;33m,\u001B[0m \u001B[1;36m2\u001B[0m\u001B[1;33m,\u001B[0m \u001B[1;36m5\u001B[0m\u001B[1;33m)\u001B[0m \u001B[1;32mand\u001B[0m \u001B[0mmin\u001B[0m\u001B[1;33m(\u001B[0m\u001B[1;36m7\u001B[0m\u001B[1;33m,\u001B[0m \u001B[1;36m4\u001B[0m\u001B[1;33m,\u001B[0m \u001B[1;36m2\u001B[0m\u001B[1;33m,\u001B[0m \u001B[1;36m5\u001B[0m\u001B[1;33m)\u001B[0m \u001B[1;33m==\u001B[0m \u001B[0mmy_min\u001B[0m\u001B[1;33m(\u001B[0m\u001B[1;36m7\u001B[0m\u001B[1;33m,\u001B[0m \u001B[1;36m4\u001B[0m\u001B[1;33m,\u001B[0m \u001B[1;36m2\u001B[0m\u001B[1;33m,\u001B[0m \u001B[1;36m5\u001B[0m\u001B[1;33m)\u001B[0m\u001B[1;33m\u001B[0m\u001B[1;33m\u001B[0m\u001B[0m\n\u001B[0;32m     25\u001B[0m \u001B[0mprint\u001B[0m\u001B[1;33m(\u001B[0m\u001B[1;34m\"통과\"\u001B[0m\u001B[1;33m)\u001B[0m\u001B[1;33m\u001B[0m\u001B[1;33m\u001B[0m\u001B[0m\n",
      "\u001B[1;32m<ipython-input-30-5294cb755d14>\u001B[0m in \u001B[0;36mmy_max\u001B[1;34m(*args)\u001B[0m\n\u001B[0;32m      1\u001B[0m \u001B[1;32mdef\u001B[0m \u001B[0mmy_max\u001B[0m\u001B[1;33m(\u001B[0m\u001B[1;33m*\u001B[0m\u001B[0margs\u001B[0m\u001B[1;33m)\u001B[0m\u001B[1;33m:\u001B[0m \u001B[1;31m#[[7, 4, 2, 6, 8]]\u001B[0m\u001B[1;33m\u001B[0m\u001B[1;33m\u001B[0m\u001B[0m\n\u001B[0;32m      2\u001B[0m     \u001B[1;32mif\u001B[0m \u001B[0mlen\u001B[0m\u001B[1;33m(\u001B[0m\u001B[0margs\u001B[0m\u001B[1;33m)\u001B[0m \u001B[1;33m==\u001B[0m \u001B[1;36m1\u001B[0m\u001B[1;33m:\u001B[0m\u001B[1;33m\u001B[0m\u001B[1;33m\u001B[0m\u001B[0m\n\u001B[1;32m----> 3\u001B[1;33m         \u001B[1;32mreturn\u001B[0m \u001B[0mmy_list\u001B[0m\u001B[1;33m(\u001B[0m\u001B[1;33m*\u001B[0m\u001B[0mlist\u001B[0m\u001B[1;33m(\u001B[0m\u001B[0margs\u001B[0m\u001B[1;33m[\u001B[0m\u001B[1;36m0\u001B[0m\u001B[1;33m]\u001B[0m\u001B[1;33m)\u001B[0m\u001B[1;33m)\u001B[0m\u001B[1;33m\u001B[0m\u001B[1;33m\u001B[0m\u001B[0m\n\u001B[0m\u001B[0;32m      4\u001B[0m \u001B[1;33m\u001B[0m\u001B[0m\n\u001B[0;32m      5\u001B[0m     \u001B[0mmax_value\u001B[0m \u001B[1;33m=\u001B[0m \u001B[0margs\u001B[0m\u001B[1;33m[\u001B[0m\u001B[1;36m0\u001B[0m\u001B[1;33m]\u001B[0m\u001B[1;33m\u001B[0m\u001B[1;33m\u001B[0m\u001B[0m\n",
      "\u001B[1;31mNameError\u001B[0m: name 'my_list' is not defined"
     ]
    }
   ],
   "source": [
    "def my_max(*args): #[[7, 4, 2, 6, 8]]\n",
    "    if len(args) == 1:\n",
    "        return my_list(*list(args[0]))\n",
    "    \n",
    "    max_value = args[0]\n",
    "    for value in args[1:]:\n",
    "        if value > max_value:\n",
    "            max_value = value\n",
    "    return max_value\n",
    "\n",
    "def my_min(*args):\n",
    "    if len(args) == 1:\n",
    "        return my_list(*list(args[0]))\n",
    "    \n",
    "    min_value = args[0]\n",
    "    for value in args[1:]:\n",
    "        if value < min_value:\n",
    "            min_value = value\n",
    "    return min_value\n",
    "    \n",
    "\n",
    "test = [7, 4, 2, 6, 8]\n",
    "assert max(test) == my_max(test) and min(test) == my_min(test)\n",
    "assert max(7, 4, 2, 5) == my_max(7, 4, 2, 5) and min(7, 4, 2, 5) == my_min(7, 4, 2, 5)\n",
    "print(\"통과\")"
   ]
  },
  {
   "cell_type": "markdown",
   "metadata": {
    "id": "LYJx5t63j_4c"
   },
   "source": [
    "### 1-6. range\n",
    "실제론 함수가 아니지만 함수 같이 만들어보자."
   ]
  },
  {
   "cell_type": "code",
   "execution_count": 7,
   "metadata": {
    "id": "z5liW1V-j_4d"
   },
   "outputs": [
    {
     "name": "stdout",
     "output_type": "stream",
     "text": [
      "10\n"
     ]
    },
    {
     "ename": "TypeError",
     "evalue": "'NoneType' object is not iterable",
     "output_type": "error",
     "traceback": [
      "\u001B[1;31m---------------------------------------------------------------------------\u001B[0m",
      "\u001B[1;31mTypeError\u001B[0m                                 Traceback (most recent call last)",
      "\u001B[1;32m<ipython-input-7-efa70b6a40c4>\u001B[0m in \u001B[0;36m<module>\u001B[1;34m\u001B[0m\n\u001B[0;32m      3\u001B[0m         \u001B[0mprint\u001B[0m\u001B[1;33m(\u001B[0m\u001B[0mn\u001B[0m\u001B[1;33m)\u001B[0m\u001B[1;33m\u001B[0m\u001B[1;33m\u001B[0m\u001B[0m\n\u001B[0;32m      4\u001B[0m \u001B[1;33m\u001B[0m\u001B[0m\n\u001B[1;32m----> 5\u001B[1;33m \u001B[1;32massert\u001B[0m \u001B[0mlist\u001B[0m\u001B[1;33m(\u001B[0m\u001B[0mrange\u001B[0m\u001B[1;33m(\u001B[0m\u001B[1;36m10\u001B[0m\u001B[1;33m)\u001B[0m\u001B[1;33m)\u001B[0m \u001B[1;33m==\u001B[0m \u001B[0mlist\u001B[0m\u001B[1;33m(\u001B[0m\u001B[0mmy_range\u001B[0m\u001B[1;33m(\u001B[0m\u001B[1;36m10\u001B[0m\u001B[1;33m)\u001B[0m\u001B[1;33m)\u001B[0m\u001B[1;33m\u001B[0m\u001B[1;33m\u001B[0m\u001B[0m\n\u001B[0m\u001B[0;32m      6\u001B[0m \u001B[1;32massert\u001B[0m \u001B[0mlist\u001B[0m\u001B[1;33m(\u001B[0m\u001B[0mrange\u001B[0m\u001B[1;33m(\u001B[0m\u001B[1;36m3\u001B[0m\u001B[1;33m,\u001B[0m \u001B[1;36m10\u001B[0m\u001B[1;33m)\u001B[0m\u001B[1;33m)\u001B[0m \u001B[1;33m==\u001B[0m \u001B[0mlist\u001B[0m\u001B[1;33m(\u001B[0m\u001B[0mmy_range\u001B[0m\u001B[1;33m(\u001B[0m\u001B[1;36m3\u001B[0m\u001B[1;33m,\u001B[0m \u001B[1;36m10\u001B[0m\u001B[1;33m)\u001B[0m\u001B[1;33m)\u001B[0m\u001B[1;33m\u001B[0m\u001B[1;33m\u001B[0m\u001B[0m\n\u001B[0;32m      7\u001B[0m \u001B[1;32massert\u001B[0m \u001B[0mlist\u001B[0m\u001B[1;33m(\u001B[0m\u001B[0mrange\u001B[0m\u001B[1;33m(\u001B[0m\u001B[1;36m3\u001B[0m\u001B[1;33m,\u001B[0m \u001B[1;36m10\u001B[0m\u001B[1;33m,\u001B[0m \u001B[1;36m2\u001B[0m\u001B[1;33m)\u001B[0m\u001B[1;33m)\u001B[0m \u001B[1;33m==\u001B[0m \u001B[0mlist\u001B[0m\u001B[1;33m(\u001B[0m\u001B[0mmy_range\u001B[0m\u001B[1;33m(\u001B[0m\u001B[1;36m3\u001B[0m\u001B[1;33m,\u001B[0m \u001B[1;36m10\u001B[0m\u001B[1;33m,\u001B[0m \u001B[1;36m2\u001B[0m\u001B[1;33m)\u001B[0m\u001B[1;33m)\u001B[0m\u001B[1;33m\u001B[0m\u001B[1;33m\u001B[0m\u001B[0m\n",
      "\u001B[1;31mTypeError\u001B[0m: 'NoneType' object is not iterable"
     ]
    }
   ],
   "source": [
    "def my_range(*args):\n",
    "    pass\n",
    "\n",
    "assert list(range(10)) == list(my_range(10))\n",
    "assert list(range(3, 10)) == list(my_range(3, 10))\n",
    "assert list(range(3, 10, 2)) == list(my_range(3, 10, 2))\n",
    "print(\"통과\")"
   ]
  },
  {
   "cell_type": "code",
   "execution_count": 32,
   "metadata": {},
   "outputs": [
    {
     "name": "stdout",
     "output_type": "stream",
     "text": [
      "통과\n"
     ]
    }
   ],
   "source": [
    "def my_range(*args):\n",
    "    if len(args) == 1:\n",
    "        start, end, step = 0, args[0], 1\n",
    "    elif len(args) == 2:\n",
    "        start, end , step = args[0], args[1], 1\n",
    "    elif len(args) == 3:\n",
    "        start, end, step = args\n",
    "        \n",
    "    if (end-start > 0) * step < 0:\n",
    "        return []\n",
    "    \n",
    "    prev = end - start\n",
    "    while True:\n",
    "        yield start\n",
    "        start += step\n",
    "        \n",
    "        if(end-start) * prev <= 0:\n",
    "            break\n",
    "    \n",
    "assert list(range(10)) == list(my_range(10))\n",
    "assert list(range(3, 10)) == list(my_range(3, 10))\n",
    "assert list(range(3, 10, 2)) == list(my_range(3, 10, 2))\n",
    "print(\"통과\")"
   ]
  },
  {
   "cell_type": "markdown",
   "metadata": {
    "id": "Ki0TIFGij_4d"
   },
   "source": [
    "### 1-7. reversed"
   ]
  },
  {
   "cell_type": "code",
   "execution_count": 8,
   "metadata": {
    "id": "omq-iRJsj_4d"
   },
   "outputs": [
    {
     "name": "stdout",
     "output_type": "stream",
     "text": [
      "통과\n"
     ]
    }
   ],
   "source": [
    "def my_reversed(seq):\n",
    "    reversed_stack = []\n",
    "    for item in seq:\n",
    "        reversed_stack.append(item)\n",
    "    while reversed_stack:\n",
    "        yield reversed_stack.pop()\n",
    "\n",
    "test = [7, 4, 2, 6, 8]\n",
    "assert list(reversed(test)) == list(my_reversed(test))\n",
    "print(\"통과\")"
   ]
  },
  {
   "cell_type": "code",
   "execution_count": null,
   "metadata": {},
   "outputs": [],
   "source": [
    "def my_reversed(seq):\n",
    "    return seq[::-1]\n",
    "\n",
    "test = [7, 4, 2, 6, 8]\n",
    "assert list(reversed(test)) == list(my_reversed(test))\n",
    "print(\"통과\")"
   ]
  },
  {
   "cell_type": "markdown",
   "metadata": {
    "id": "EO1bxjI2j_4d"
   },
   "source": [
    "### 1-8. filter"
   ]
  },
  {
   "cell_type": "code",
   "execution_count": 14,
   "metadata": {
    "id": "TN6rpi9bj_4d"
   },
   "outputs": [
    {
     "name": "stdout",
     "output_type": "stream",
     "text": [
      "False\n",
      "True\n",
      "False\n",
      "False\n",
      "True\n",
      "True\n"
     ]
    },
    {
     "ename": "TypeError",
     "evalue": "'NoneType' object is not iterable",
     "output_type": "error",
     "traceback": [
      "\u001B[1;31m---------------------------------------------------------------------------\u001B[0m",
      "\u001B[1;31mTypeError\u001B[0m                                 Traceback (most recent call last)",
      "\u001B[1;32m<ipython-input-14-c176145c60ed>\u001B[0m in \u001B[0;36m<module>\u001B[1;34m\u001B[0m\n\u001B[0;32m      8\u001B[0m \u001B[1;33m\u001B[0m\u001B[0m\n\u001B[0;32m      9\u001B[0m \u001B[1;31m# 역슬래시 \"\\\"를 이용하면 평가식을 다음 줄로 나눌 수 있다.\u001B[0m\u001B[1;33m\u001B[0m\u001B[1;33m\u001B[0m\u001B[1;33m\u001B[0m\u001B[0m\n\u001B[1;32m---> 10\u001B[1;33m \u001B[1;32massert\u001B[0m \u001B[0mlist\u001B[0m\u001B[1;33m(\u001B[0m\u001B[0mfilter\u001B[0m\u001B[1;33m(\u001B[0m\u001B[0mtest_function\u001B[0m\u001B[1;33m,\u001B[0m \u001B[0mtest\u001B[0m\u001B[1;33m)\u001B[0m\u001B[1;33m)\u001B[0m \u001B[1;33m==\u001B[0m \u001B[0mlist\u001B[0m\u001B[1;33m(\u001B[0m\u001B[0mmy_filter\u001B[0m\u001B[1;33m(\u001B[0m\u001B[0mtest_function\u001B[0m\u001B[1;33m,\u001B[0m \u001B[0mtest\u001B[0m\u001B[1;33m)\u001B[0m\u001B[1;33m)\u001B[0m\u001B[0;31m \u001B[0m\u001B[0;31m\\\u001B[0m\u001B[1;33m\u001B[0m\u001B[1;33m\u001B[0m\u001B[0m\n\u001B[0m\u001B[0;32m     11\u001B[0m     \u001B[1;33m==\u001B[0m \u001B[0mlist\u001B[0m\u001B[1;33m(\u001B[0m\u001B[0mfilter\u001B[0m\u001B[1;33m(\u001B[0m\u001B[1;32mlambda\u001B[0m \u001B[0mx\u001B[0m\u001B[1;33m:\u001B[0m \u001B[0mx\u001B[0m \u001B[1;33m>\u001B[0m \u001B[1;36m5\u001B[0m\u001B[1;33m,\u001B[0m \u001B[0mtest\u001B[0m\u001B[1;33m)\u001B[0m\u001B[1;33m)\u001B[0m\u001B[1;33m\u001B[0m\u001B[1;33m\u001B[0m\u001B[0m\n\u001B[0;32m     12\u001B[0m \u001B[0mprint\u001B[0m\u001B[1;33m(\u001B[0m\u001B[1;34m\"통과\"\u001B[0m\u001B[1;33m)\u001B[0m\u001B[1;33m\u001B[0m\u001B[1;33m\u001B[0m\u001B[0m\n",
      "\u001B[1;31mTypeError\u001B[0m: 'NoneType' object is not iterable"
     ]
    }
   ],
   "source": [
    "def my_filter(function, iterable):\n",
    "    for item in iterable:\n",
    "        print (function(item))\n",
    "\n",
    "def test_function(number):\n",
    "    return number > 5\n",
    "test = [1, 7, 5, 2, 9, 11]\n",
    "\n",
    "# 역슬래시 \"\\\"를 이용하면 평가식을 다음 줄로 나눌 수 있다.\n",
    "assert list(filter(test_function, test)) == list(my_filter(test_function, test)) \\\n",
    "    == list(filter(lambda x: x > 5, test))\n",
    "print(\"통과\")"
   ]
  },
  {
   "cell_type": "code",
   "execution_count": null,
   "metadata": {},
   "outputs": [],
   "source": [
    "def my_filter(function, iterable):\n",
    "    for elem in iterable:\n",
    "        if function(elem):\n",
    "\n",
    "def test_function(number):\n",
    "    return number > 5\n",
    "test = [1, 7, 5, 2, 9, 11]\n",
    "\n",
    "# 역슬래시 \"\\\"를 이용하면 평가식을 다음 줄로 나눌 수 있다.\n",
    "assert list(filter(test_function, test)) == list(my_filter(test_function, test)) \\\n",
    "    == list(filter(lambda x: x > 5, test))\n",
    "print(\"통과\")"
   ]
  },
  {
   "cell_type": "markdown",
   "metadata": {
    "id": "TFRcIgaej_4e"
   },
   "source": [
    "### 1-9. sum"
   ]
  },
  {
   "cell_type": "code",
   "execution_count": 16,
   "metadata": {
    "id": "OBMnyE-Jj_4e"
   },
   "outputs": [
    {
     "ename": "AssertionError",
     "evalue": "",
     "output_type": "error",
     "traceback": [
      "\u001B[1;31m---------------------------------------------------------------------------\u001B[0m",
      "\u001B[1;31mAssertionError\u001B[0m                            Traceback (most recent call last)",
      "\u001B[1;32m<ipython-input-16-77a623112d19>\u001B[0m in \u001B[0;36m<module>\u001B[1;34m\u001B[0m\n\u001B[0;32m      7\u001B[0m \u001B[1;33m\u001B[0m\u001B[0m\n\u001B[0;32m      8\u001B[0m \u001B[0mtest\u001B[0m \u001B[1;33m=\u001B[0m \u001B[1;33m[\u001B[0m\u001B[1;36m7\u001B[0m\u001B[1;33m,\u001B[0m \u001B[1;36m4\u001B[0m\u001B[1;33m,\u001B[0m \u001B[1;36m2\u001B[0m\u001B[1;33m,\u001B[0m \u001B[1;36m6\u001B[0m\u001B[1;33m,\u001B[0m \u001B[1;36m8\u001B[0m\u001B[1;33m]\u001B[0m\u001B[1;33m\u001B[0m\u001B[1;33m\u001B[0m\u001B[0m\n\u001B[1;32m----> 9\u001B[1;33m \u001B[1;32massert\u001B[0m \u001B[0msum\u001B[0m\u001B[1;33m(\u001B[0m\u001B[0mtest\u001B[0m\u001B[1;33m)\u001B[0m \u001B[1;33m==\u001B[0m \u001B[0mmy_sum\u001B[0m\u001B[1;33m(\u001B[0m\u001B[0mtest\u001B[0m\u001B[1;33m)\u001B[0m\u001B[1;33m\u001B[0m\u001B[1;33m\u001B[0m\u001B[0m\n\u001B[0m\u001B[0;32m     10\u001B[0m \u001B[1;32massert\u001B[0m \u001B[0msum\u001B[0m\u001B[1;33m(\u001B[0m\u001B[0mrange\u001B[0m\u001B[1;33m(\u001B[0m\u001B[1;36m10\u001B[0m\u001B[1;33m)\u001B[0m\u001B[1;33m)\u001B[0m \u001B[1;33m==\u001B[0m \u001B[0mmy_sum\u001B[0m\u001B[1;33m(\u001B[0m\u001B[0mmy_range\u001B[0m\u001B[1;33m(\u001B[0m\u001B[1;36m10\u001B[0m\u001B[1;33m)\u001B[0m\u001B[1;33m)\u001B[0m\u001B[1;33m\u001B[0m\u001B[1;33m\u001B[0m\u001B[0m\n\u001B[0;32m     11\u001B[0m \u001B[1;32massert\u001B[0m \u001B[0msum\u001B[0m\u001B[1;33m(\u001B[0m\u001B[0mfilter\u001B[0m\u001B[1;33m(\u001B[0m\u001B[1;32mlambda\u001B[0m \u001B[0mx\u001B[0m\u001B[1;33m:\u001B[0m \u001B[0mx\u001B[0m \u001B[1;33m%\u001B[0m \u001B[1;36m2\u001B[0m\u001B[1;33m,\u001B[0m \u001B[0mrange\u001B[0m\u001B[1;33m(\u001B[0m\u001B[1;36m1\u001B[0m\u001B[1;33m,\u001B[0m \u001B[1;36m20\u001B[0m\u001B[1;33m,\u001B[0m \u001B[1;36m3\u001B[0m\u001B[1;33m)\u001B[0m\u001B[1;33m)\u001B[0m\u001B[1;33m)\u001B[0m\u001B[0;31m \u001B[0m\u001B[0;31m\\\u001B[0m\u001B[1;33m\u001B[0m\u001B[1;33m\u001B[0m\u001B[0m\n",
      "\u001B[1;31mAssertionError\u001B[0m: "
     ]
    }
   ],
   "source": [
    "def my_sum(iterable, start=0):\n",
    "    result=0\n",
    "    for item in iterable:\n",
    "        result+=result\n",
    "    \n",
    "        return result\n",
    "\n",
    "test = [7, 4, 2, 6, 8]\n",
    "assert sum(test) == my_sum(test)\n",
    "assert sum(range(10)) == my_sum(my_range(10))\n",
    "assert sum(filter(lambda x: x % 2, range(1, 20, 3))) \\\n",
    "    == my_sum(my_filter(lambda x: x % 2, my_range(1, 20, 3)))\n",
    "print(\"통과\")"
   ]
  },
  {
   "cell_type": "code",
   "execution_count": null,
   "metadata": {},
   "outputs": [],
   "source": [
    "def my_sum(iterable, start=0):\n",
    "    aggregated = type(start)(start)\n",
    "    \n",
    "    for elem in iterable:\n",
    "        aggregated += elem\n",
    "    return aggregated\n",
    "\n",
    "test = [7, 4, 2, 6, 8]\n",
    "assert sum(test) == my_sum(test)\n",
    "assert sum(range(10)) == my_sum(my_range(10))\n",
    "assert sum(filter(lambda x: x % 2, range(1, 20, 3))) \\\n",
    "    == my_sum(my_filter(lambda x: x % 2, my_range(1, 20, 3)))\n",
    "print(\"통과\")"
   ]
  },
  {
   "cell_type": "markdown",
   "metadata": {
    "id": "ECrWOlnjj_4e"
   },
   "source": [
    "### 1-10. zip"
   ]
  },
  {
   "cell_type": "code",
   "execution_count": 17,
   "metadata": {
    "id": "TFQnbWW1j_4e"
   },
   "outputs": [
    {
     "name": "stdout",
     "output_type": "stream",
     "text": [
      "통과\n"
     ]
    }
   ],
   "source": [
    "def my_zip(*iterables):\n",
    "    sentinel = object()\n",
    "    iterators = [iter(it) for it in iterables]\n",
    "    while iterators:\n",
    "        result = []\n",
    "        for it in iterators:\n",
    "            result = []\n",
    "            for it in iterators:\n",
    "                elem = next(it, sentinel)\n",
    "                if elem is sentinel:\n",
    "                    return\n",
    "                result.append(elem)\n",
    "            yield tuple(result)\n",
    "\n",
    "test1 = (1, 2, 3)\n",
    "test2 = (10, 2, 30)\n",
    "assert list(zip(test1, test2)) == list(my_zip(test1, test2))\n",
    "\n",
    "test3 = [(10, 20, 30, 40), (55, 22, 66, 70), (False, True, True, False)]\n",
    "assert list(zip(*test3)) == list(my_zip(*test3))\n",
    "print(\"통과\")"
   ]
  },
  {
   "cell_type": "code",
   "execution_count": null,
   "metadata": {},
   "outputs": [],
   "source": [
    "def my_zip(*iterables):\n",
    "    iterators = list(map(iter, iterables))\n",
    "    while True:\n",
    "        output = tuple(map(next, iterators))\n",
    "        if len(iterators) != len(output):\n",
    "            break\n",
    "        yield output\n",
    "    \n",
    "test1 = (1, 2, 3)\n",
    "test2 = (10, 2, 30)\n",
    "assert list(zip(test1, test2)) == list(my_zip(test1, test2))\n",
    "\n",
    "test3 = [(10, 20, 30, 40), (55, 22, 66, 70), (False, True, True, False)]\n",
    "assert list(zip(*test3)) == list(my_zip(*test3))\n",
    "print(\"통과\")"
   ]
  },
  {
   "cell_type": "markdown",
   "metadata": {
    "id": "Gm9742vej_4e"
   },
   "source": [
    "### 1-11. sorted\n",
    "정렬 알고리즘은 어떠한 것을 써도 무방하다.\n",
    "쉬운 정렬 알고리즘으로 일반적으로 [삽입정렬](https://ko.wikipedia.org/wiki/%EC%82%BD%EC%9E%85_%EC%A0%95%EB%A0%AC), [선택정렬](https://ko.wikipedia.org/wiki/%EC%84%A0%ED%83%9D_%EC%A0%95%EB%A0%AC), 그리고 [버블정렬](https://ko.wikipedia.org/wiki/%EA%B1%B0%ED%92%88_%EC%A0%95%EB%A0%AC)을 꼽는다."
   ]
  },
  {
   "cell_type": "code",
   "execution_count": 27,
   "metadata": {
    "id": "h3fKPQodj_4f"
   },
   "outputs": [
    {
     "ename": "AssertionError",
     "evalue": "",
     "output_type": "error",
     "traceback": [
      "\u001B[1;31m---------------------------------------------------------------------------\u001B[0m",
      "\u001B[1;31mAssertionError\u001B[0m                            Traceback (most recent call last)",
      "\u001B[1;32m<ipython-input-27-a8e3674b89cf>\u001B[0m in \u001B[0;36m<module>\u001B[1;34m\u001B[0m\n\u001B[0;32m      9\u001B[0m \u001B[1;33m\u001B[0m\u001B[0m\n\u001B[0;32m     10\u001B[0m \u001B[0mtest1\u001B[0m \u001B[1;33m=\u001B[0m \u001B[1;33m[\u001B[0m\u001B[1;36m7\u001B[0m\u001B[1;33m,\u001B[0m \u001B[1;36m4\u001B[0m\u001B[1;33m,\u001B[0m \u001B[1;36m2\u001B[0m\u001B[1;33m,\u001B[0m \u001B[1;36m6\u001B[0m\u001B[1;33m,\u001B[0m \u001B[1;36m8\u001B[0m\u001B[1;33m]\u001B[0m\u001B[1;33m\u001B[0m\u001B[1;33m\u001B[0m\u001B[0m\n\u001B[1;32m---> 11\u001B[1;33m \u001B[1;32massert\u001B[0m \u001B[0msorted\u001B[0m\u001B[1;33m(\u001B[0m\u001B[0mtest1\u001B[0m\u001B[1;33m)\u001B[0m \u001B[1;33m==\u001B[0m \u001B[0mmy_sorted\u001B[0m\u001B[1;33m(\u001B[0m\u001B[0mtest1\u001B[0m\u001B[1;33m)\u001B[0m\u001B[1;33m\u001B[0m\u001B[1;33m\u001B[0m\u001B[0m\n\u001B[0m\u001B[0;32m     12\u001B[0m \u001B[0mtest2\u001B[0m \u001B[1;33m=\u001B[0m \u001B[1;33m[\u001B[0m\u001B[1;33m(\u001B[0m\u001B[1;36m1\u001B[0m\u001B[1;33m,\u001B[0m \u001B[1;36m2\u001B[0m\u001B[1;33m)\u001B[0m\u001B[1;33m,\u001B[0m \u001B[1;33m(\u001B[0m\u001B[1;36m6\u001B[0m\u001B[1;33m,\u001B[0m \u001B[1;36m2\u001B[0m\u001B[1;33m)\u001B[0m\u001B[1;33m,\u001B[0m \u001B[1;33m(\u001B[0m\u001B[1;36m5\u001B[0m\u001B[1;33m,\u001B[0m \u001B[1;36m3\u001B[0m\u001B[1;33m)\u001B[0m\u001B[1;33m,\u001B[0m \u001B[1;33m(\u001B[0m\u001B[1;36m10\u001B[0m\u001B[1;33m,\u001B[0m \u001B[1;36m5\u001B[0m\u001B[1;33m)\u001B[0m\u001B[1;33m]\u001B[0m\u001B[1;33m\u001B[0m\u001B[1;33m\u001B[0m\u001B[0m\n\u001B[0;32m     13\u001B[0m \u001B[1;32massert\u001B[0m \u001B[0msorted\u001B[0m\u001B[1;33m(\u001B[0m\u001B[0mtest2\u001B[0m\u001B[1;33m)\u001B[0m \u001B[1;33m==\u001B[0m \u001B[0mmy_sorted\u001B[0m\u001B[1;33m(\u001B[0m\u001B[0mtest2\u001B[0m\u001B[1;33m)\u001B[0m\u001B[0;31m \u001B[0m\u001B[0;31m\\\u001B[0m\u001B[1;33m\u001B[0m\u001B[1;33m\u001B[0m\u001B[0m\n",
      "\u001B[1;31mAssertionError\u001B[0m: "
     ]
    }
   ],
   "source": [
    "def my_sorted(iterable, key=None, reverse=False):\n",
    "    for i in range(1, len(iterable)):\n",
    "        key = iterable[i]\n",
    "        j = i-1\n",
    "        while j >= 0 and key < iterable[j]:\n",
    "            iterable[j+1] = iterable[j]\n",
    "            j -= 1\n",
    "        iterable[j+1] = key\n",
    "\n",
    "test1 = [7, 4, 2, 6, 8]\n",
    "assert sorted(test1) == my_sorted(test1)\n",
    "test2 = [(1, 2), (6, 2), (5, 3), (10, 5)]\n",
    "assert sorted(test2) == my_sorted(test2) \\\n",
    "   and sorted(test2, reverse=True) == my_sorted(test2, reverse=True) \\\n",
    "   and sorted(test2, key=lambda x: x[1]) == my_sorted(test2, key=lambda x: x[1])\n",
    "print(\"통과\")"
   ]
  },
  {
   "cell_type": "code",
   "execution_count": null,
   "metadata": {},
   "outputs": [],
   "source": [
    "def my_sorted(iterable, key=None, reverse=False): #퀵 정렬\n",
    "    if len(sequence) <= 1:\n",
    "        return sequence\n",
    "    \n",
    "    key = key if key else lambda x: x #key가 논일 경우 반환\n",
    "    \n",
    "    center_key = key(sequence[0]) #퀵 정렬을 위한 키값\n",
    "    left = list(my_filter(lambda x: key(x) < center_key, sequence[1:]))\n",
    "    right = list(my_filter(lambda x: key(x) >= center_key, sequence[1:]))\n",
    "    \n",
    "    if not reverse:\n",
    "        return my_sorted(left, key, reverse) + [sequence[0]] + my_sorted(right, key, reverse)\n",
    "    else:\n",
    "        return my_sorted(right, key, reverse) + [sequence[0]] + my_sroted(left, key, reverse)\n",
    "\n",
    "test1 = [7, 4, 2, 6, 8]\n",
    "assert sorted(test1) == my_sorted(test1)\n",
    "test2 = [(1, 2), (6, 2), (5, 3), (10, 5)]\n",
    "assert sorted(test2) == my_sorted(test2) \\\n",
    "   and sorted(test2, reverse=True) == my_sorted(test2, reverse=True) \\\n",
    "   and sorted(test2, key=lambda x: x[1]) == my_sorted(test2, key=lambda x: x[1])\n",
    "print(\"통과\")"
   ]
  },
  {
   "cell_type": "markdown",
   "metadata": {
    "id": "FgiQdO2Gj_4f"
   },
   "source": [
    "## 2. 알고리즘 함수 만들기\n",
    "몇 가지 간단한 알고리즘 함수를 만들어보자.\n",
    "\n",
    "### 2-1. 피보나치 수열 만들기\n",
    "숫자 $N$가 주어졌을때,다피보나치 길이 $N$의 피보나치 수열을 생성하는 함수를 작성해보자. 시작은 1부터다."
   ]
  },
  {
   "cell_type": "code",
   "execution_count": 28,
   "metadata": {
    "id": "SathO3raj_4f"
   },
   "outputs": [
    {
     "ename": "TypeError",
     "evalue": "'NoneType' object is not iterable",
     "output_type": "error",
     "traceback": [
      "\u001B[1;31m---------------------------------------------------------------------------\u001B[0m",
      "\u001B[1;31mTypeError\u001B[0m                                 Traceback (most recent call last)",
      "\u001B[1;32m<ipython-input-28-2ffa4633f3dc>\u001B[0m in \u001B[0;36m<module>\u001B[1;34m\u001B[0m\n\u001B[0;32m      2\u001B[0m     \u001B[1;32mpass\u001B[0m\u001B[1;33m\u001B[0m\u001B[1;33m\u001B[0m\u001B[0m\n\u001B[0;32m      3\u001B[0m \u001B[1;33m\u001B[0m\u001B[0m\n\u001B[1;32m----> 4\u001B[1;33m \u001B[1;32massert\u001B[0m \u001B[0mlist\u001B[0m\u001B[1;33m(\u001B[0m\u001B[0mfibonacci\u001B[0m\u001B[1;33m(\u001B[0m\u001B[1;36m10\u001B[0m\u001B[1;33m)\u001B[0m\u001B[1;33m)\u001B[0m \u001B[1;33m==\u001B[0m \u001B[1;33m[\u001B[0m\u001B[1;36m1\u001B[0m\u001B[1;33m,\u001B[0m \u001B[1;36m1\u001B[0m\u001B[1;33m,\u001B[0m \u001B[1;36m2\u001B[0m\u001B[1;33m,\u001B[0m \u001B[1;36m3\u001B[0m\u001B[1;33m,\u001B[0m \u001B[1;36m5\u001B[0m\u001B[1;33m,\u001B[0m \u001B[1;36m8\u001B[0m\u001B[1;33m,\u001B[0m \u001B[1;36m13\u001B[0m\u001B[1;33m,\u001B[0m \u001B[1;36m21\u001B[0m\u001B[1;33m,\u001B[0m \u001B[1;36m44\u001B[0m\u001B[1;33m,\u001B[0m \u001B[1;36m65\u001B[0m\u001B[1;33m]\u001B[0m\u001B[1;33m\u001B[0m\u001B[1;33m\u001B[0m\u001B[0m\n\u001B[0m\u001B[0;32m      5\u001B[0m \u001B[1;32massert\u001B[0m \u001B[0msum\u001B[0m\u001B[1;33m(\u001B[0m\u001B[0mfibonacci\u001B[0m\u001B[1;33m(\u001B[0m\u001B[1;36m5\u001B[0m\u001B[1;33m)\u001B[0m\u001B[1;33m)\u001B[0m \u001B[1;33m==\u001B[0m \u001B[1;36m12\u001B[0m\u001B[1;33m\u001B[0m\u001B[1;33m\u001B[0m\u001B[0m\n\u001B[0;32m      6\u001B[0m \u001B[0mprint\u001B[0m\u001B[1;33m(\u001B[0m\u001B[1;34m\"통과\"\u001B[0m\u001B[1;33m)\u001B[0m\u001B[1;33m\u001B[0m\u001B[1;33m\u001B[0m\u001B[0m\n",
      "\u001B[1;31mTypeError\u001B[0m: 'NoneType' object is not iterable"
     ]
    }
   ],
   "source": [
    "def fibonacci(number): #0보다 크다는 가정\n",
    "    yield 1\n",
    "    if number == 0:\n",
    "        return\n",
    "\n",
    "    prev, now = 1,1\n",
    "    for _ in range(1, number):\n",
    "        \n",
    "    \n",
    "assert list(fibonacci(10)) == [1, 1, 2, 3, 5, 8, 13, 21, 44, 65]\n",
    "assert sum(fibonacci(5)) == 12\n",
    "print(\"통과\") "
   ]
  },
  {
   "cell_type": "markdown",
   "metadata": {
    "id": "qbdm9l5pj_4f"
   },
   "source": [
    "### 2-2. 순열 만들기\n",
    "수열 $S$가 주어졌을때 그 안에서 $N$를 뽑아 순열을 만드는 함수를 작성해보자. 순서는 상관없다. \\\n",
    "(힌트: 재귀 함수를 써보자)"
   ]
  },
  {
   "cell_type": "code",
   "execution_count": null,
   "metadata": {
    "id": "r9qXLBcXj_4f"
   },
   "outputs": [],
   "source": [
    "def my_permutations(seq, number):\n",
    "    if number == 1:\n",
    "        return[(elem, ) for elem in seq]\n",
    "    \n",
    "    for i in range(len(seq)):\n",
    "        seq_var = seq[:i] + seq[i+1:]\n",
    "        permuted = my_permutations(seq_var, number - 1)\n",
    "        for entry in permuted:\n",
    "            yield(seq[i],) + entry\n",
    "            \n",
    "    return(\n",
    "        for i in range(len(sqe))\n",
    "        for entry in my_permutations(seq[:i] + seq[i+1:], number -1)\n",
    "    )\n",
    "\n",
    "from itertools import permutations\n",
    "test = [1, 2, 3, 4]\n",
    "\n",
    "assert set(permutations(test, 2)) == set(my_permutations(test, 2)) \\\n",
    "   and set(permutations(test, 3)) == set(my_permutations(test, 3))\n",
    "print(\"통과\") "
   ]
  },
  {
   "cell_type": "markdown",
   "metadata": {
    "id": "laEqDZNsj_4g"
   },
   "source": [
    "### 2-3. 조합 만들기\n",
    "수열 $S$가 주어졌을때 그 안에서 $N$를 뽑아 조합을 만드는 함수를 작성해보자. 순서는 상관없다. \\\n",
    "(힌트: 재귀 함수를 써보자)"
   ]
  },
  {
   "cell_type": "code",
   "execution_count": null,
   "metadata": {
    "id": "CJer6T7Nj_4g"
   },
   "outputs": [],
   "source": [
    "def my_combinations(seq, number):\n",
    "    pass\n",
    "\n",
    "from itertools import combinations\n",
    "test = [1, 2, 3, 4]\n",
    "\n",
    "assert set(combinations(test, 2)) == set(my_combinations(test, 2)) \\\n",
    "   and set(combinations(test, 3)) == set(my_combinations(test, 3))\n",
    "print(\"통과\") "
   ]
  }
 ],
 "metadata": {
  "colab": {
   "collapsed_sections": [],
   "name": "HW1. Python 내장함수와 알고리즘 구현.ipynb",
   "provenance": []
  },
  "interpreter": {
   "hash": "ade55d4c86be7d50874b83e4277b883dd708f548765dc318ed8eee76ae3e5626"
  },
  "kernelspec": {
   "display_name": "Python 3",
   "language": "python",
   "name": "python3"
  },
  "language_info": {
   "codemirror_mode": {
    "name": "ipython",
    "version": 3
   },
   "file_extension": ".py",
   "mimetype": "text/x-python",
   "name": "python",
   "nbconvert_exporter": "python",
   "pygments_lexer": "ipython3",
   "version": "3.7.4"
  }
 },
 "nbformat": 4,
 "nbformat_minor": 1
}