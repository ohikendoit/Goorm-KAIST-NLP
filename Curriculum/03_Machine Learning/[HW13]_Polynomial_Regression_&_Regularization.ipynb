{
  "nbformat": 4,
  "nbformat_minor": 0,
  "metadata": {
    "colab": {
      "name": "[HW13] Polynomial Regression & Regularization",
      "provenance": [],
      "collapsed_sections": []
    },
    "kernelspec": {
      "name": "python3",
      "display_name": "Python 3"
    },
    "language_info": {
      "name": "python"
    },
    "widgets": {
      "application/vnd.jupyter.widget-state+json": {
        "cec22cd327f84ee8bb8bb8079be718da": {
          "model_module": "@jupyter-widgets/controls",
          "model_name": "VBoxModel",
          "model_module_version": "1.5.0",
          "state": {
            "_view_name": "VBoxView",
            "_dom_classes": [
              "widget-interact"
            ],
            "_model_name": "VBoxModel",
            "_view_module": "@jupyter-widgets/controls",
            "_model_module_version": "1.5.0",
            "_view_count": null,
            "_view_module_version": "1.5.0",
            "box_style": "",
            "layout": "IPY_MODEL_f0da6e1546b1415fb5e0039de14234d5",
            "_model_module": "@jupyter-widgets/controls",
            "children": [
              "IPY_MODEL_bc9314cbdb11493e996ab8d5ccb33213",
              "IPY_MODEL_0dd63d5ce83e4c0a8fc2b14b2a3c6779"
            ]
          }
        },
        "f0da6e1546b1415fb5e0039de14234d5": {
          "model_module": "@jupyter-widgets/base",
          "model_name": "LayoutModel",
          "model_module_version": "1.2.0",
          "state": {
            "_view_name": "LayoutView",
            "grid_template_rows": null,
            "right": null,
            "justify_content": null,
            "_view_module": "@jupyter-widgets/base",
            "overflow": null,
            "_model_module_version": "1.2.0",
            "_view_count": null,
            "flex_flow": null,
            "width": null,
            "min_width": null,
            "border": null,
            "align_items": null,
            "bottom": null,
            "_model_module": "@jupyter-widgets/base",
            "top": null,
            "grid_column": null,
            "overflow_y": null,
            "overflow_x": null,
            "grid_auto_flow": null,
            "grid_area": null,
            "grid_template_columns": null,
            "flex": null,
            "_model_name": "LayoutModel",
            "justify_items": null,
            "grid_row": null,
            "max_height": null,
            "align_content": null,
            "visibility": null,
            "align_self": null,
            "height": null,
            "min_height": null,
            "padding": null,
            "grid_auto_rows": null,
            "grid_gap": null,
            "max_width": null,
            "order": null,
            "_view_module_version": "1.2.0",
            "grid_template_areas": null,
            "object_position": null,
            "object_fit": null,
            "grid_auto_columns": null,
            "margin": null,
            "display": null,
            "left": null
          }
        },
        "bc9314cbdb11493e996ab8d5ccb33213": {
          "model_module": "@jupyter-widgets/controls",
          "model_name": "IntSliderModel",
          "model_module_version": "1.5.0",
          "state": {
            "_view_name": "IntSliderView",
            "style": "IPY_MODEL_e24af88a7ddc41789cf06bd4b5c88158",
            "_dom_classes": [],
            "description": "degree",
            "step": 1,
            "_model_name": "IntSliderModel",
            "orientation": "horizontal",
            "max": 15,
            "_view_module": "@jupyter-widgets/controls",
            "_model_module_version": "1.5.0",
            "value": 8,
            "_view_count": null,
            "disabled": false,
            "_view_module_version": "1.5.0",
            "min": 1,
            "continuous_update": true,
            "readout_format": "d",
            "description_tooltip": null,
            "readout": true,
            "_model_module": "@jupyter-widgets/controls",
            "layout": "IPY_MODEL_9e33e0665845467dbd5cfd0bcd84939a"
          }
        },
        "0dd63d5ce83e4c0a8fc2b14b2a3c6779": {
          "model_module": "@jupyter-widgets/output",
          "model_name": "OutputModel",
          "model_module_version": "1.0.0",
          "state": {
            "_view_name": "OutputView",
            "msg_id": "",
            "_dom_classes": [],
            "_model_name": "OutputModel",
            "outputs": [
              {
                "output_type": "display_data",
                "data": {
                  "image/png": "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\n",
                  "text/plain": [
                    "<Figure size 720x432 with 1 Axes>"
                  ]
                },
                "metadata": {
                  "needs_background": "light"
                }
              }
            ],
            "_view_module": "@jupyter-widgets/output",
            "_model_module_version": "1.0.0",
            "_view_count": null,
            "_view_module_version": "1.0.0",
            "layout": "IPY_MODEL_b0804427d79c453c8c33b298acd1453e",
            "_model_module": "@jupyter-widgets/output"
          }
        },
        "e24af88a7ddc41789cf06bd4b5c88158": {
          "model_module": "@jupyter-widgets/controls",
          "model_name": "SliderStyleModel",
          "model_module_version": "1.5.0",
          "state": {
            "_view_name": "StyleView",
            "handle_color": null,
            "_model_name": "SliderStyleModel",
            "description_width": "",
            "_view_module": "@jupyter-widgets/base",
            "_model_module_version": "1.5.0",
            "_view_count": null,
            "_view_module_version": "1.2.0",
            "_model_module": "@jupyter-widgets/controls"
          }
        },
        "9e33e0665845467dbd5cfd0bcd84939a": {
          "model_module": "@jupyter-widgets/base",
          "model_name": "LayoutModel",
          "model_module_version": "1.2.0",
          "state": {
            "_view_name": "LayoutView",
            "grid_template_rows": null,
            "right": null,
            "justify_content": null,
            "_view_module": "@jupyter-widgets/base",
            "overflow": null,
            "_model_module_version": "1.2.0",
            "_view_count": null,
            "flex_flow": null,
            "width": null,
            "min_width": null,
            "border": null,
            "align_items": null,
            "bottom": null,
            "_model_module": "@jupyter-widgets/base",
            "top": null,
            "grid_column": null,
            "overflow_y": null,
            "overflow_x": null,
            "grid_auto_flow": null,
            "grid_area": null,
            "grid_template_columns": null,
            "flex": null,
            "_model_name": "LayoutModel",
            "justify_items": null,
            "grid_row": null,
            "max_height": null,
            "align_content": null,
            "visibility": null,
            "align_self": null,
            "height": null,
            "min_height": null,
            "padding": null,
            "grid_auto_rows": null,
            "grid_gap": null,
            "max_width": null,
            "order": null,
            "_view_module_version": "1.2.0",
            "grid_template_areas": null,
            "object_position": null,
            "object_fit": null,
            "grid_auto_columns": null,
            "margin": null,
            "display": null,
            "left": null
          }
        },
        "b0804427d79c453c8c33b298acd1453e": {
          "model_module": "@jupyter-widgets/base",
          "model_name": "LayoutModel",
          "model_module_version": "1.2.0",
          "state": {
            "_view_name": "LayoutView",
            "grid_template_rows": null,
            "right": null,
            "justify_content": null,
            "_view_module": "@jupyter-widgets/base",
            "overflow": null,
            "_model_module_version": "1.2.0",
            "_view_count": null,
            "flex_flow": null,
            "width": null,
            "min_width": null,
            "border": null,
            "align_items": null,
            "bottom": null,
            "_model_module": "@jupyter-widgets/base",
            "top": null,
            "grid_column": null,
            "overflow_y": null,
            "overflow_x": null,
            "grid_auto_flow": null,
            "grid_area": null,
            "grid_template_columns": null,
            "flex": null,
            "_model_name": "LayoutModel",
            "justify_items": null,
            "grid_row": null,
            "max_height": null,
            "align_content": null,
            "visibility": null,
            "align_self": null,
            "height": null,
            "min_height": null,
            "padding": null,
            "grid_auto_rows": null,
            "grid_gap": null,
            "max_width": null,
            "order": null,
            "_view_module_version": "1.2.0",
            "grid_template_areas": null,
            "object_position": null,
            "object_fit": null,
            "grid_auto_columns": null,
            "margin": null,
            "display": null,
            "left": null
          }
        },
        "d6dea2ba8c3c4d91a90fdb45ec34c20f": {
          "model_module": "@jupyter-widgets/controls",
          "model_name": "VBoxModel",
          "model_module_version": "1.5.0",
          "state": {
            "_view_name": "VBoxView",
            "_dom_classes": [
              "widget-interact"
            ],
            "_model_name": "VBoxModel",
            "_view_module": "@jupyter-widgets/controls",
            "_model_module_version": "1.5.0",
            "_view_count": null,
            "_view_module_version": "1.5.0",
            "box_style": "",
            "layout": "IPY_MODEL_c42dc9eac153490589b6dc065eb1a9d4",
            "_model_module": "@jupyter-widgets/controls",
            "children": [
              "IPY_MODEL_f7173f3e82d84b8ba34b855e86da6df1",
              "IPY_MODEL_53595458c510494086ac29a9665e67db"
            ]
          }
        },
        "c42dc9eac153490589b6dc065eb1a9d4": {
          "model_module": "@jupyter-widgets/base",
          "model_name": "LayoutModel",
          "model_module_version": "1.2.0",
          "state": {
            "_view_name": "LayoutView",
            "grid_template_rows": null,
            "right": null,
            "justify_content": null,
            "_view_module": "@jupyter-widgets/base",
            "overflow": null,
            "_model_module_version": "1.2.0",
            "_view_count": null,
            "flex_flow": null,
            "width": null,
            "min_width": null,
            "border": null,
            "align_items": null,
            "bottom": null,
            "_model_module": "@jupyter-widgets/base",
            "top": null,
            "grid_column": null,
            "overflow_y": null,
            "overflow_x": null,
            "grid_auto_flow": null,
            "grid_area": null,
            "grid_template_columns": null,
            "flex": null,
            "_model_name": "LayoutModel",
            "justify_items": null,
            "grid_row": null,
            "max_height": null,
            "align_content": null,
            "visibility": null,
            "align_self": null,
            "height": null,
            "min_height": null,
            "padding": null,
            "grid_auto_rows": null,
            "grid_gap": null,
            "max_width": null,
            "order": null,
            "_view_module_version": "1.2.0",
            "grid_template_areas": null,
            "object_position": null,
            "object_fit": null,
            "grid_auto_columns": null,
            "margin": null,
            "display": null,
            "left": null
          }
        },
        "f7173f3e82d84b8ba34b855e86da6df1": {
          "model_module": "@jupyter-widgets/controls",
          "model_name": "IntSliderModel",
          "model_module_version": "1.5.0",
          "state": {
            "_view_name": "IntSliderView",
            "style": "IPY_MODEL_8cd6a324de8449f1b7e470074db85f3f",
            "_dom_classes": [],
            "description": "degree",
            "step": 1,
            "_model_name": "IntSliderModel",
            "orientation": "horizontal",
            "max": 15,
            "_view_module": "@jupyter-widgets/controls",
            "_model_module_version": "1.5.0",
            "value": 8,
            "_view_count": null,
            "disabled": false,
            "_view_module_version": "1.5.0",
            "min": 1,
            "continuous_update": true,
            "readout_format": "d",
            "description_tooltip": null,
            "readout": true,
            "_model_module": "@jupyter-widgets/controls",
            "layout": "IPY_MODEL_91f68ea66fef4f70a0f835b301e409d5"
          }
        },
        "53595458c510494086ac29a9665e67db": {
          "model_module": "@jupyter-widgets/output",
          "model_name": "OutputModel",
          "model_module_version": "1.0.0",
          "state": {
            "_view_name": "OutputView",
            "msg_id": "",
            "_dom_classes": [],
            "_model_name": "OutputModel",
            "outputs": [
              {
                "output_type": "stream",
                "text": [
                  "weights without regularization\n",
                  "[  51.55852237 -110.43763097 -330.71083651  557.4762547   720.54807515\n",
                  " -820.1684055  -407.72194923  417.50407516]\n",
                  "weights with regularization\n",
                  "[10.1011814   8.8392604   7.77755749 10.91459887  6.57532616 11.08508634\n",
                  "  5.57615815 11.05683256]\n"
                ],
                "name": "stdout"
              },
              {
                "output_type": "display_data",
                "data": {
                  "image/png": "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\n",
                  "text/plain": [
                    "<Figure size 720x432 with 1 Axes>"
                  ]
                },
                "metadata": {
                  "needs_background": "light"
                }
              }
            ],
            "_view_module": "@jupyter-widgets/output",
            "_model_module_version": "1.0.0",
            "_view_count": null,
            "_view_module_version": "1.0.0",
            "layout": "IPY_MODEL_6f41092cbdec4d57a2a93eaa0080e4df",
            "_model_module": "@jupyter-widgets/output"
          }
        },
        "8cd6a324de8449f1b7e470074db85f3f": {
          "model_module": "@jupyter-widgets/controls",
          "model_name": "SliderStyleModel",
          "model_module_version": "1.5.0",
          "state": {
            "_view_name": "StyleView",
            "handle_color": null,
            "_model_name": "SliderStyleModel",
            "description_width": "",
            "_view_module": "@jupyter-widgets/base",
            "_model_module_version": "1.5.0",
            "_view_count": null,
            "_view_module_version": "1.2.0",
            "_model_module": "@jupyter-widgets/controls"
          }
        },
        "91f68ea66fef4f70a0f835b301e409d5": {
          "model_module": "@jupyter-widgets/base",
          "model_name": "LayoutModel",
          "model_module_version": "1.2.0",
          "state": {
            "_view_name": "LayoutView",
            "grid_template_rows": null,
            "right": null,
            "justify_content": null,
            "_view_module": "@jupyter-widgets/base",
            "overflow": null,
            "_model_module_version": "1.2.0",
            "_view_count": null,
            "flex_flow": null,
            "width": null,
            "min_width": null,
            "border": null,
            "align_items": null,
            "bottom": null,
            "_model_module": "@jupyter-widgets/base",
            "top": null,
            "grid_column": null,
            "overflow_y": null,
            "overflow_x": null,
            "grid_auto_flow": null,
            "grid_area": null,
            "grid_template_columns": null,
            "flex": null,
            "_model_name": "LayoutModel",
            "justify_items": null,
            "grid_row": null,
            "max_height": null,
            "align_content": null,
            "visibility": null,
            "align_self": null,
            "height": null,
            "min_height": null,
            "padding": null,
            "grid_auto_rows": null,
            "grid_gap": null,
            "max_width": null,
            "order": null,
            "_view_module_version": "1.2.0",
            "grid_template_areas": null,
            "object_position": null,
            "object_fit": null,
            "grid_auto_columns": null,
            "margin": null,
            "display": null,
            "left": null
          }
        },
        "6f41092cbdec4d57a2a93eaa0080e4df": {
          "model_module": "@jupyter-widgets/base",
          "model_name": "LayoutModel",
          "model_module_version": "1.2.0",
          "state": {
            "_view_name": "LayoutView",
            "grid_template_rows": null,
            "right": null,
            "justify_content": null,
            "_view_module": "@jupyter-widgets/base",
            "overflow": null,
            "_model_module_version": "1.2.0",
            "_view_count": null,
            "flex_flow": null,
            "width": null,
            "min_width": null,
            "border": null,
            "align_items": null,
            "bottom": null,
            "_model_module": "@jupyter-widgets/base",
            "top": null,
            "grid_column": null,
            "overflow_y": null,
            "overflow_x": null,
            "grid_auto_flow": null,
            "grid_area": null,
            "grid_template_columns": null,
            "flex": null,
            "_model_name": "LayoutModel",
            "justify_items": null,
            "grid_row": null,
            "max_height": null,
            "align_content": null,
            "visibility": null,
            "align_self": null,
            "height": null,
            "min_height": null,
            "padding": null,
            "grid_auto_rows": null,
            "grid_gap": null,
            "max_width": null,
            "order": null,
            "_view_module_version": "1.2.0",
            "grid_template_areas": null,
            "object_position": null,
            "object_fit": null,
            "grid_auto_columns": null,
            "margin": null,
            "display": null,
            "left": null
          }
        }
      }
    }
  },
  "cells": [
    {
      "cell_type": "markdown",
      "metadata": {
        "id": "eo3NmmcT2jDL"
      },
      "source": [
        "# [HW13] Polynomial Regression & Regularization\n"
      ]
    },
    {
      "cell_type": "markdown",
      "metadata": {
        "id": "N2E2ENhc2uCF"
      },
      "source": [
        "지난번 시간까지는 linear 한 관계에 대해서 알아보았습니다. linear 한 관계란, 데이터를 가장 잘 설명해주는 **직선**을 찾는 것이었습니다. 하지만 우리의 데이터가 x,y 좌표에서 직선의 형태가 아닌 구부러진 형태로 되어있다면 linear 말고 다른 방법을 찾아야 할 것입니다. \n",
        "\n",
        "그래서 이번 시간에는 polynomial regression을 실습을 통해서 알아보도록 하겠습니다. 그리고 regularization을 통해서 어떻게 학습이 변화되는지 알아보겠습니다. \n",
        "\n",
        "이제부터 코드를 통해서 알아보도록 하겠습니다. \n"
      ]
    },
    {
      "cell_type": "markdown",
      "metadata": {
        "id": "1OjDjDZ36B60"
      },
      "source": [
        "## 1.1 A special case of multiple linear regression\n",
        "\n",
        "먼저 우리는 4차 polynomial function\n",
        "$$y = x^4 + x^3 - 4x^2$$\n",
        "을 이용해서 데이터를 생성해보도록 하겠습니다. 이전에 했던 것처럼 noise를 추가해서 생성하도록 하겠습니다. "
      ]
    },
    {
      "cell_type": "code",
      "metadata": {
        "id": "3LG7n_eJ2bYq"
      },
      "source": [
        "from matplotlib import pyplot\n",
        "from autograd import grad\n",
        "from autograd import numpy"
      ],
      "execution_count": null,
      "outputs": []
    },
    {
      "cell_type": "code",
      "metadata": {
        "id": "cylgvplM6bb9",
        "colab": {
          "base_uri": "https://localhost:8080/",
          "height": 265
        },
        "outputId": "fd023cb7-b42a-479e-a9ca-c64a8cf80418"
      },
      "source": [
        "numpy.random.seed(0)    # fix seed for reproducibility\n",
        "x = numpy.linspace(-3, 3, 20)\n",
        "y = x**4 + x**3 - 4*x**2 + 8*numpy.random.normal(size=len(x))\n",
        "pyplot.scatter(x, y);"
      ],
      "execution_count": null,
      "outputs": [
        {
          "output_type": "display_data",
          "data": {
            "image/png": "[encoded data removed]",
            "text/plain": [
              "<Figure size 432x288 with 1 Axes>"
            ]
          },
          "metadata": {
            "needs_background": "light"
          }
        }
      ]
    },
    {
      "cell_type": "markdown",
      "metadata": {
        "id": "geSErpX9cfT7"
      },
      "source": [
        "우리가 생성한 데이터는 곡선의 형태이기 때문에 직선으로 표현하는데에는 무리가 있습니다. \n",
        "\n",
        "그래서 우리는 polynomial function을 사용해서 표현하도록 하겠습니다. 이제 먼저 $d$ 차 곡선을 정의해보겠습니다. \n",
        "\n",
        "$$\\hat{y} = w_0 + w_1x + w_2x^2 + ... + w_dx^d$$\n",
        "\n",
        "$w$는 우리가 찾아야 할 계수들입니다. 우리는 주어진 $x, y$를 가장 잘 설명해줄 수 있는 $w$를 찾는 것이 목적입니다. \n",
        "\n",
        "이제 우리는 위의 식을 조금 변형하여 linear regression 문제처럼 바꾸어 보겠습니다. $x_i = x^i$라고 정의를 하면 다음과 같이 나타낼 수 있습니다. \n",
        "\n",
        "$$\\hat{y} = w_0 + w_1x_1 + w_2x_2 + ... + w_dx_d$$\n",
        "\n",
        "이제 polynomial regression 문제가 multiple linear regression 문제와 동일해졌습니다. 이것도 또한 이전에 한 것처럼 행렬의 형태로 나타낼 수 있습니다. \n",
        "\n",
        "$$\\hat{\\mathbf{y}} = \\begin{bmatrix}\n",
        "\\hat{y}^{(1)}  \\\\\n",
        "\\hat{y}^{(2)}\\\\\n",
        "\\vdots  \\\\\n",
        "\\hat{y}^{(N)}\n",
        "\\end{bmatrix} =\n",
        "\\begin{bmatrix}\n",
        "x_0^{(1)} &  x_1^{(1)} & \\cdots & x_d^{(1)} \\\\\n",
        "x_0^{(2)} &  x_1^{(2)} & \\cdots & x_d^{(2)} \\\\\n",
        "\\vdots & \\vdots & \\ddots & \\vdots \\\\\n",
        "x_0^{(N)} &  x_1^{(N)} & \\cdots & x_d^{(N)}\n",
        "\\end{bmatrix} \\begin{bmatrix}\n",
        "w_0  \\\\\n",
        "w_1\\\\\n",
        "\\vdots  \\\\\n",
        "w_d \n",
        "\\end{bmatrix} \n",
        "= \\mathbf{X}\\mathbf{w}$$\n",
        "\n",
        "이번 실습에서 3차항까지 고려해서 실습을 진행하도록 하겠습니다. \n",
        "\n",
        "코드로 살펴보겠습니다. "
      ]
    },
    {
      "cell_type": "code",
      "metadata": {
        "colab": {
          "base_uri": "https://localhost:8080/"
        },
        "id": "3H7qXunjegNC",
        "outputId": "37f72b70-4d5a-4e4a-d1ff-093517906ad7"
      },
      "source": [
        "degree = 3\n",
        "\n",
        "def polynomial_features(x, degree):\n",
        "    \"\"\" Generate polynomial features for x.\"\"\"\n",
        "    \n",
        "    X = numpy.empty((len(x), degree+1))\n",
        "    for i in range(degree+1):\n",
        "        X[:,i] = x**i\n",
        "    return X\n",
        "\n",
        "X = polynomial_features(x, degree)\n",
        "print(X.shape)"
      ],
      "execution_count": null,
      "outputs": [
        {
          "output_type": "stream",
          "text": [
            "(20, 4)\n"
          ],
          "name": "stdout"
        }
      ]
    },
    {
      "cell_type": "markdown",
      "metadata": {
        "id": "EUm-FjbQestC"
      },
      "source": [
        "## 1.2 Scale the data, train the model\n",
        "\n",
        "이제 기존에 했던 것처럼 입력 변수들을 정규화 시켜주고, 학습을 진행해보도록 하겠습니다. 이번에는 scikit-learn 패키지 안에 있는 min max sclaer 를 사용하겠습니다. "
      ]
    },
    {
      "cell_type": "code",
      "metadata": {
        "id": "1Nf9W19z6cmQ"
      },
      "source": [
        "from sklearn.preprocessing import MinMaxScaler\n",
        "\n",
        "min_max_scaler = MinMaxScaler()\n",
        "X_scaled = min_max_scaler.fit_transform(X)\n",
        "X_scaled[:,0] = 1   # the column for intercept"
      ],
      "execution_count": null,
      "outputs": []
    },
    {
      "cell_type": "markdown",
      "metadata": {
        "id": "qcYIUoYufYvw"
      },
      "source": [
        "이제 [HW12]에서 했던대로 학습을 진행해보겠습니다. "
      ]
    },
    {
      "cell_type": "code",
      "metadata": {
        "id": "W0_-onCse969"
      },
      "source": [
        "def linear_regression(params, X):\n",
        "    '''\n",
        "    The linear regression model in matrix form.\n",
        "    Arguments:\n",
        "      params: 1D array of weights for the linear model\n",
        "      X     : 2D array of input values\n",
        "    Returns:\n",
        "      1D array of predicted values\n",
        "    '''\n",
        "    return numpy.dot(X, params)\n",
        "\n",
        "def mse_loss(params, model, X, y):\n",
        "    '''\n",
        "    The mean squared error loss function.\n",
        "    Arguments:\n",
        "      params: 1D array of weights for the linear model\n",
        "      model : function for the linear regression model\n",
        "      X     : 2D array of input values\n",
        "      y     : 1D array of predicted values\n",
        "    Returns:\n",
        "      float, mean squared error\n",
        "    '''\n",
        "    y_pred = model(params, X)\n",
        "    return numpy.mean( numpy.sum((y-y_pred)**2) )\n",
        "\n",
        "gradient = grad(mse_loss)"
      ],
      "execution_count": null,
      "outputs": []
    },
    {
      "cell_type": "code",
      "metadata": {
        "colab": {
          "base_uri": "https://localhost:8080/"
        },
        "id": "6yEoOXrlfgKp",
        "outputId": "02aeb622-0d63-4f15-dc90-287187bf929f"
      },
      "source": [
        "max_iter = 3000\n",
        "alpha = 0.01\n",
        "params = numpy.zeros(X_scaled.shape[1])\n",
        "descent = numpy.ones(X_scaled.shape[1])\n",
        "i = 0\n",
        "\n",
        "from sklearn.metrics import mean_absolute_error\n",
        "\n",
        "while numpy.linalg.norm(descent) > 0.01 and i < max_iter:\n",
        "    descent = gradient(params, linear_regression, X_scaled, y)\n",
        "    params = params - descent * alpha\n",
        "    loss = mse_loss(params, linear_regression, X_scaled, y)\n",
        "    mae = mean_absolute_error(y, X_scaled@params)\n",
        "    if i%100 == 0:\n",
        "        print(\"iteration {}, loss = {}, mae = {}\".format(i, loss, mae))\n",
        "    i += 1"
      ],
      "execution_count": null,
      "outputs": [
        {
          "output_type": "stream",
          "text": [
            "iteration 0, loss = 5434.767518111348, mae = 11.05718775676392\n",
            "iteration 100, loss = 1300.4768479787672, mae = 6.885099348931476\n",
            "iteration 200, loss = 1281.308959359777, mae = 6.8639053389713665\n",
            "iteration 300, loss = 1272.9896965024661, mae = 6.807943451695349\n",
            "iteration 400, loss = 1267.4477500708404, mae = 6.760476747247461\n",
            "iteration 500, loss = 1263.7497451381248, mae = 6.721622404779564\n",
            "iteration 600, loss = 1261.282144135704, mae = 6.689879731162117\n",
            "iteration 700, loss = 1259.6355657998567, mae = 6.663949878547802\n",
            "iteration 800, loss = 1258.5368386500606, mae = 6.642768513961068\n",
            "iteration 900, loss = 1257.8036810933152, mae = 6.625466061127554\n",
            "iteration 1000, loss = 1257.314460450035, mae = 6.611332180986304\n",
            "iteration 1100, loss = 1256.9880137870919, mae = 6.5997866175015245\n",
            "iteration 1200, loss = 1256.7701827834117, mae = 6.5903553760560865\n",
            "iteration 1300, loss = 1256.6248287285202, mae = 6.582651263968432\n",
            "iteration 1400, loss = 1256.5278370197357, mae = 6.576357994582585\n",
            "iteration 1500, loss = 1256.4631164890282, mae = 6.571217202352118\n",
            "iteration 1600, loss = 1256.4199298378444, mae = 6.567017835832665\n",
            "iteration 1700, loss = 1256.391112292313, mae = 6.563587493120082\n",
            "iteration 1800, loss = 1256.3718829492707, mae = 6.5607853440170505\n",
            "iteration 1900, loss = 1256.3590516124232, mae = 6.558496348352909\n",
            "iteration 2000, loss = 1256.3504895307688, mae = 6.5566265330940485\n",
            "iteration 2100, loss = 1256.3447762334608, mae = 6.555099134350118\n",
            "iteration 2200, loss = 1256.3409638701312, mae = 6.553851445888969\n",
            "iteration 2300, loss = 1256.338419960131, mae = 6.552832244778408\n",
            "iteration 2400, loss = 1256.336722462403, mae = 6.551999688466384\n",
            "iteration 2500, loss = 1256.3355897578117, mae = 6.551319596965787\n",
            "iteration 2600, loss = 1256.334833927822, mae = 6.550764049620217\n",
            "iteration 2700, loss = 1256.33432957834, mae = 6.550310238841959\n",
            "iteration 2800, loss = 1256.333993036521, mae = 6.549939533763262\n",
            "iteration 2900, loss = 1256.3337684692315, mae = 6.549636715359735\n"
          ],
          "name": "stdout"
        }
      ]
    },
    {
      "cell_type": "markdown",
      "metadata": {
        "id": "U1G2P359f1Z5"
      },
      "source": [
        "이제 학습된 parameter들을 보겠습니다. "
      ]
    },
    {
      "cell_type": "code",
      "metadata": {
        "colab": {
          "base_uri": "https://localhost:8080/"
        },
        "id": "Agol8H8zf6G1",
        "outputId": "f7f1224e-2180-4d3e-fd2d-3c61a8547a93"
      },
      "source": [
        "params"
      ],
      "execution_count": null,
      "outputs": [
        {
          "output_type": "execute_result",
          "data": {
            "text/plain": [
              "array([-22.51572398,   6.75930601,  41.30788709,  30.0105898 ])"
            ]
          },
          "metadata": {},
          "execution_count": 7
        }
      ]
    },
    {
      "cell_type": "markdown",
      "metadata": {
        "id": "rqNzZggih23T"
      },
      "source": [
        "원래 데이터와 함께 그래프로 표현해서 보겠습니다. "
      ]
    },
    {
      "cell_type": "code",
      "metadata": {
        "colab": {
          "base_uri": "https://localhost:8080/",
          "height": 265
        },
        "id": "TSmBiJa5h000",
        "outputId": "7ba0a884-ab43-4167-8b30-498ae4cc0681"
      },
      "source": [
        "xgrid = numpy.linspace(x.min(), x.max(), 30)\n",
        "Xgrid_poly_feat = polynomial_features(xgrid, degree)\n",
        "Xgrid_scaled = min_max_scaler.transform(Xgrid_poly_feat)\n",
        "Xgrid_scaled[:,0] = 1 \n",
        "pyplot.scatter(x, y, c='r', label='true')\n",
        "pyplot.plot(xgrid, Xgrid_scaled@params, label='predicted')\n",
        "pyplot.legend();"
      ],
      "execution_count": null,
      "outputs": [
        {
          "output_type": "display_data",
          "data": {
            "image/png": "[encoded data removed]",
            "text/plain": [
              "<Figure size 432x288 with 1 Axes>"
            ]
          },
          "metadata": {
            "needs_background": "light"
          }
        }
      ]
    },
    {
      "cell_type": "markdown",
      "metadata": {
        "id": "mqUDBTThh8mD"
      },
      "source": [
        "## 1.3 Observe underfitting & overfitting\n",
        "\n",
        "우리는 위에서 모델을 만들 때 3차항으로 설정을 한 뒤 학습을 진행하였습니다. 과연 3차항으로 설정한 것이 좋은 선택이었을까요? \n",
        "\n",
        "지금부터 우리는 1부터 15까지 다양한 차수를 가지고 학습을 하면서 변화를 지켜보겠습니다. 우리는 ipywidget 패키지를 통해서 어떻게 변화하는지 보겠습니다. "
      ]
    },
    {
      "cell_type": "code",
      "metadata": {
        "colab": {
          "base_uri": "https://localhost:8080/"
        },
        "id": "g08ELwo_heCp",
        "outputId": "0121e097-1b2d-4293-9c6e-625dc60e206b"
      },
      "source": [
        "from urllib.request import urlretrieve\n",
        "URL = 'https://raw.githubusercontent.com/engineersCode/EngComp6_deeplearning/master/scripts/plot_helpers.py'\n",
        "urlretrieve(URL, 'plot_helpers.py')"
      ],
      "execution_count": null,
      "outputs": [
        {
          "output_type": "execute_result",
          "data": {
            "text/plain": [
              "('plot_helpers.py', <http.client.HTTPMessage at 0x7f802ef24790>)"
            ]
          },
          "metadata": {},
          "execution_count": 9
        }
      ]
    },
    {
      "cell_type": "code",
      "metadata": {
        "colab": {
          "base_uri": "https://localhost:8080/",
          "height": 424,
          "referenced_widgets": [
            "cec22cd327f84ee8bb8bb8079be718da",
            "f0da6e1546b1415fb5e0039de14234d5",
            "bc9314cbdb11493e996ab8d5ccb33213",
            "0dd63d5ce83e4c0a8fc2b14b2a3c6779",
            "e24af88a7ddc41789cf06bd4b5c88158",
            "9e33e0665845467dbd5cfd0bcd84939a",
            "b0804427d79c453c8c33b298acd1453e"
          ]
        },
        "id": "OsXlV5D_h5k1",
        "outputId": "eb37a599-242a-4d8b-f42a-1b4c74d2bc00"
      },
      "source": [
        "from plot_helpers import interact_polyreg\n",
        "\n",
        "max_degree = 15\n",
        "interact_polyreg(max_degree, x, y)"
      ],
      "execution_count": null,
      "outputs": [
        {
          "output_type": "display_data",
          "data": {
            "application/vnd.jupyter.widget-view+json": {
              "model_id": "cec22cd327f84ee8bb8bb8079be718da",
              "version_minor": 0,
              "version_major": 2
            },
            "text/plain": [
              "interactive(children=(IntSlider(value=8, description='degree', max=15, min=1), Output()), _dom_classes=('widge…"
            ]
          },
          "metadata": {}
        }
      ]
    },
    {
      "cell_type": "markdown",
      "metadata": {
        "id": "WuO32RbwsoKT"
      },
      "source": [
        "### 1.3.1 Underfitting\n",
        "\n",
        "위 셀에서 degree를 1로 설정을 하면 우리의 데이터와 가장 잘 맞는 직선을 찾아줍니다. \n",
        "\n",
        "직선은 너무 간단해서 데이터가 흩뿌려져 있을 때는 그 데이터를 잘 설명하지 못합니다. \n",
        "\n",
        "이것을 **underfitting** 되었다고 합니다. Underfitting 에서는 우리의 예측 값이 **high bias, low variance**의 성질을 가지게 됩니다. \n",
        "\n",
        "Bias, variance 의 개념을 이해하기 쉽게 예시를 들어서 설명해보겠습니다. \n",
        "\n"
      ]
    },
    {
      "cell_type": "markdown",
      "metadata": {
        "id": "03ZdMJbjYORD"
      },
      "source": [
        "<img src=\"https://lh3.googleusercontent.com/rq_iMVSuIK1K4ykF9RQnF05hH6xxWm3lmNPWuQ3hfK9r4-3GBIuCxCW3L7QH53M3EIwbVWOcaRiRLDc0AIJ-0uq8-qzavpSWPceQ1lchq-ZPF16l3KLst24-x6MbGYFqQbEJmEI3gEc\n",
        "\" width=\"500\" height=\"400\" />"
      ]
    },
    {
      "cell_type": "markdown",
      "metadata": {
        "id": "dHWxwR9LYPNW"
      },
      "source": [
        "Underfitting 되었다면 low variance, high bias이기 때문에 저 위의 4개의 과녁에서 왼쪽 아래의 과녁에 해당됩니다. \n",
        "\n",
        "예측값들이 한군데에 몰려있어서 low variance이지만, 정답에서 멀기 때문에 high bias 인 것입니다. \n",
        "\n",
        "우리가 모델을 낮은 차수로 설정했다면, 그것은 직선에 가까워지고, 그렇다면 예측 값들은 직선의 근처에서만 나오기 때문에 low variance입니다. 그리고 직선은 흩뿌려진 데이터를 정확히 예측할 수 없기 때문에 정답에서 멀게 되고, high bias가 되는 것입니다. \n"
      ]
    },
    {
      "cell_type": "markdown",
      "metadata": {
        "id": "o3IQr0UuZoy9"
      },
      "source": [
        "### 1.3.2 Overfitting\n",
        "\n",
        "이제 degree를 높게 설정해 보겠습니다. Training error인 MAE 값이 점점 감소합니다. 그러면 degree가 제일 큰 15가 MAE값이 가장 작으니까 제일 잘 맞는 모델일까요? 아닙니다!!\n",
        "\n",
        "오른쪽으로 degree를 움직일수록 우리의 모델이 곡선을 이루면서 모든 training point를 지나게 됩니다. 하지만 이제 새로운 데이터가 들어오게 된다면 어떻게 될까요? Training data를 모두 커버하려고 매우 복잡하기 때문에 새로운 데이터를 잘 못 맞추게 됩니다. 예를 들어 위에서 degree 15 일 때 맨 오른 쪽 두 점 가운데로 새로운 데이터가 들어온다면, 기존의 데이터들과 매우 비슷한 데이터이지만 우리의 모델은 매우 큰 값을 예측하게 되어 큰 오류 값을 가지게 됩니다. \n",
        "\n",
        "이것을 우리는 **overfitting**이라고 부르고, **high variance, low bias**이기 때문에 위 과녁 그림 예시에서 오른쪽 위에 해당하게 됩니다. \n",
        "\n",
        "Overfitting 은 training 과정에서는 작은 에러를 가지기에 찾아내기가 힘듭니다. 이제부터는 regularization을 통해서 overfitting을 막는 방법을 알아보겠습니다. \n",
        "\n"
      ]
    },
    {
      "cell_type": "markdown",
      "metadata": {
        "id": "LJLefLyslszc"
      },
      "source": [
        "## 1.4 Regularization\n",
        "\n",
        "Regularization은 overfitting 을 막는 방법입니다. Cost function에서 새로운 식을 추가해서 복잡한 모델이 되는 것을 막아주게 됩니다. 먼저 우리의 기존 모델은 다음과 같습니다. \n",
        "\n",
        "$$\\hat{y} = w_0 + w_1x + w_2x^2 + ... + w_dx^d$$\n",
        "\n",
        "차수를 가진 항들이 모델을 복잡하게 만듭니다. 그래서 그들의 계수값에 제한 조건을 추가합니다. \n",
        "\n",
        "보편적인 방법은 regularization term 인 $\\lambda\\sum_{j=1}^dw_j^2$를 추가하는 것 입니다. Mean-squared error를 사용한 cost function에 추가하면 다음과 같습니다. \n",
        "\n",
        "$$L(\\mathbf{w}) = \\frac{1}{N} \\lVert \\mathbf{y} - \\mathbf{Xw} \\rVert^2 + \\lambda \\sum_{j=1}^d w_j^2$$\n",
        "\n",
        "새롭게 만든 cost function은 계수들이 작은 값이 되는 것을 선호하게 됩니다. 왜냐하면 계수들이 커지게 되면 두번째 항이 커지게 돼서 cost 값이 늘어나게 되기 때문입니다. \n",
        "\n",
        "위 식에서 $\\lambda$는 regularization parameter 입니다. 우리가 얼마나 큰 제약을 줄 것인가를 결정하게 됩니다. $\\lambda$가 큰 값을 가질수록 계수들을 더 작게 할 수 있습니다. \n",
        "\n",
        "이번 실습에서는 $\\lambda$값을 1로 설정하겠습니다. \n"
      ]
    },
    {
      "cell_type": "code",
      "metadata": {
        "id": "CMkyX5hxqUZn"
      },
      "source": [
        "def regularized_loss(params, model, X, y, _lambda=1.0):\n",
        "    '''\n",
        "    The mean squared error loss function with an L2 penalty.\n",
        "    Arguments:\n",
        "      params: 1D array of weights for the linear model\n",
        "      model : function for the linear regression model\n",
        "      X     : 2D array of input values\n",
        "      y     : 1D array of predicted values\n",
        "      _lambda: regularization parameter, default 1.0\n",
        "    Returns:\n",
        "      float, regularized mean squared error\n",
        "    '''\n",
        "    y_pred = model(params, X)\n",
        "    return numpy.mean( numpy.sum((y-y_pred)**2) ) + _lambda * numpy.sum( params[1:]**2 )\n",
        "\n",
        "gradient = grad(regularized_loss)     "
      ],
      "execution_count": null,
      "outputs": []
    },
    {
      "cell_type": "code",
      "metadata": {
        "id": "-Gv01HFPovXP"
      },
      "source": [
        "no_regularization_params = params.copy()"
      ],
      "execution_count": null,
      "outputs": []
    },
    {
      "cell_type": "code",
      "metadata": {
        "colab": {
          "base_uri": "https://localhost:8080/"
        },
        "id": "ZFCFimSvowt-",
        "outputId": "cf1418da-a876-4bdf-bf8f-7931b5a6bb87"
      },
      "source": [
        "max_iter = 3000\n",
        "alpha = 0.01\n",
        "params = numpy.zeros(X_scaled.shape[1])\n",
        "descent = numpy.ones(X_scaled.shape[1])\n",
        "i = 0\n",
        "\n",
        "from sklearn.metrics import mean_absolute_error\n",
        "\n",
        "while numpy.linalg.norm(descent) > 0.01 and i < max_iter:\n",
        "    descent = gradient(params, linear_regression, X_scaled, y)\n",
        "    params = params - descent * alpha\n",
        "    loss = mse_loss(params, linear_regression, X_scaled, y)\n",
        "    mae = mean_absolute_error(y, X_scaled@params)\n",
        "    if i%100 == 0:\n",
        "        print(\"iteration {}, loss = {}, mae = {}\".format(i, loss, mae))\n",
        "    i += 1"
      ],
      "execution_count": null,
      "outputs": [
        {
          "output_type": "stream",
          "text": [
            "iteration 0, loss = 5434.767518111348, mae = 11.05718775676392\n",
            "iteration 100, loss = 1785.9852202374184, mae = 6.983886996350374\n",
            "iteration 200, loss = 1764.2597057711018, mae = 6.966518785947395\n",
            "iteration 300, loss = 1763.5702631188328, mae = 6.965728405272657\n"
          ],
          "name": "stdout"
        }
      ]
    },
    {
      "cell_type": "markdown",
      "metadata": {
        "id": "y6NzRXSSo7Ge"
      },
      "source": [
        "이제 regularization을 추가한 것과 추가하지 않은 것을 비교해보겠습니다. "
      ]
    },
    {
      "cell_type": "code",
      "metadata": {
        "colab": {
          "base_uri": "https://localhost:8080/",
          "height": 337
        },
        "id": "ztnU2EBlozzv",
        "outputId": "592283e4-db03-47ea-cede-976cf9c7b807"
      },
      "source": [
        "print(\"weights without regularization\")\n",
        "print(no_regularization_params)\n",
        "print(\"weights with regularization\")\n",
        "print(params)\n",
        "\n",
        "pyplot.scatter(x, y, c='r', label='true')\n",
        "pyplot.plot(xgrid, Xgrid_scaled@no_regularization_params, label='w/o regularization')\n",
        "pyplot.plot(xgrid, Xgrid_scaled@params, label='with regularization')\n",
        "pyplot.legend();"
      ],
      "execution_count": null,
      "outputs": [
        {
          "output_type": "stream",
          "text": [
            "weights without regularization\n",
            "[-22.51572398   6.75930601  41.30788709  30.0105898 ]\n",
            "weights with regularization\n",
            "[-11.13750882  12.48522096  28.26626633  11.09211867]\n"
          ],
          "name": "stdout"
        },
        {
          "output_type": "display_data",
          "data": {
            "image/png": "[encoded data removed]",
            "text/plain": [
              "<Figure size 432x288 with 1 Axes>"
            ]
          },
          "metadata": {
            "needs_background": "light"
          }
        }
      ]
    },
    {
      "cell_type": "markdown",
      "metadata": {
        "id": "XzCNZCl3pLOT"
      },
      "source": [
        "더 다양한 차수에서 regularization을 비교해 보겠습니다. "
      ]
    },
    {
      "cell_type": "code",
      "metadata": {
        "colab": {
          "base_uri": "https://localhost:8080/",
          "height": 532,
          "referenced_widgets": [
            "d6dea2ba8c3c4d91a90fdb45ec34c20f",
            "c42dc9eac153490589b6dc065eb1a9d4",
            "f7173f3e82d84b8ba34b855e86da6df1",
            "53595458c510494086ac29a9665e67db",
            "8cd6a324de8449f1b7e470074db85f3f",
            "91f68ea66fef4f70a0f835b301e409d5",
            "6f41092cbdec4d57a2a93eaa0080e4df"
          ]
        },
        "id": "s9k59geepBQY",
        "outputId": "309e45f0-b2de-419c-b89f-a47c27f6139f"
      },
      "source": [
        "interact_polyreg(max_degree, x, y, regularized=True)"
      ],
      "execution_count": null,
      "outputs": [
        {
          "output_type": "display_data",
          "data": {
            "application/vnd.jupyter.widget-view+json": {
              "model_id": "d6dea2ba8c3c4d91a90fdb45ec34c20f",
              "version_minor": 0,
              "version_major": 2
            },
            "text/plain": [
              "interactive(children=(IntSlider(value=8, description='degree', max=15, min=1), Output()), _dom_classes=('widge…"
            ]
          },
          "metadata": {}
        }
      ]
    },
    {
      "cell_type": "markdown",
      "metadata": {
        "id": "_IsqGuOVpTTJ"
      },
      "source": [
        "Degree가 커질수록 regularization의 중요성이 들어나게 됩니다. 이제 높은 차수에서 예측 모델이 이리저리 움직이는 모습이 아닌 부드럽게 학습 데이터들을 지나가는 모습을 볼 수 잇습니다. 이렇게 된다면 새롭게 들어오는 데이터도 잘 예측할 수 있게 될 것입니다. "
      ]
    },
    {
      "cell_type": "markdown",
      "metadata": {
        "id": "qGEjDrhaqHnF"
      },
      "source": [
        "이번 시간에는 polynomial regression과 regularization에 대해서 알아보았습니다. 다음시간에는 실제 데이터에서의 multiple logistic regression을 알아보고, regularization을 추가해보는 실습을 진행해보도록 하겠습니다. "
      ]
    },
    {
      "cell_type": "code",
      "metadata": {
        "id": "2v_XfAJaqGPM"
      },
      "source": [
        ""
      ],
      "execution_count": null,
      "outputs": []
    }
  ]
}