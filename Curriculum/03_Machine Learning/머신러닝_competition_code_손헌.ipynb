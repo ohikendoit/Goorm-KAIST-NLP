{
  "nbformat": 4,
  "nbformat_minor": 5,
  "metadata": {
    "kernelspec": {
      "display_name": "Python 3",
      "language": "python",
      "name": "python3"
    },
    "language_info": {
      "codemirror_mode": {
        "name": "ipython",
        "version": 3
      },
      "file_extension": ".py",
      "mimetype": "text/x-python",
      "name": "python",
      "nbconvert_exporter": "python",
      "pygments_lexer": "ipython3",
      "version": "3.7.10"
    },
    "papermill": {
      "default_parameters": {},
      "duration": 28.861638,
      "end_time": "2021-08-31T10:00:07.414942",
      "environment_variables": {},
      "exception": true,
      "input_path": "__notebook__.ipynb",
      "output_path": "__notebook__.ipynb",
      "parameters": {},
      "start_time": "2021-08-31T09:59:38.553304",
      "version": "2.3.3"
    },
    "colab": {
      "name": "머신러닝_competition_code_손헌.ipynb",
      "provenance": [],
      "collapsed_sections": [],
      "toc_visible": true
    }
  },
  "cells": [
    {
      "cell_type": "code",
      "metadata": {
        "_cell_guid": "b1076dfc-b9ad-4769-8c92-a6c4dae69d19",
        "_uuid": "8f2839f25d086af736a60e9eeb907d3b93b6e0e5",
        "execution": {
          "iopub.execute_input": "2021-08-31T09:59:47.120357Z",
          "iopub.status.busy": "2021-08-31T09:59:47.119690Z",
          "iopub.status.idle": "2021-08-31T09:59:47.255286Z",
          "shell.execute_reply": "2021-08-31T09:59:47.254544Z",
          "shell.execute_reply.started": "2021-08-31T09:56:53.387763Z"
        },
        "papermill": {
          "duration": 0.17213,
          "end_time": "2021-08-31T09:59:47.255461",
          "exception": false,
          "start_time": "2021-08-31T09:59:47.083331",
          "status": "completed"
        },
        "tags": [],
        "id": "b96252fb"
      },
      "source": [
        "import pandas as pd\n",
        "\n",
        "#Loading dataset\n",
        "wine = pd.read_csv('../input/goormcompetition/winequality-red.csv')\n",
        "wine_test = pd.read_csv('../input/goormcompetition/winequality-red_test.csv')"
      ],
      "id": "b96252fb",
      "execution_count": null,
      "outputs": []
    },
    {
      "cell_type": "code",
      "metadata": {
        "execution": {
          "iopub.execute_input": "2021-08-31T09:59:47.313229Z",
          "iopub.status.busy": "2021-08-31T09:59:47.312292Z",
          "iopub.status.idle": "2021-08-31T09:59:47.341029Z",
          "shell.execute_reply": "2021-08-31T09:59:47.340267Z",
          "shell.execute_reply.started": "2021-08-31T09:56:53.516028Z"
        },
        "papermill": {
          "duration": 0.062514,
          "end_time": "2021-08-31T09:59:47.341172",
          "exception": false,
          "start_time": "2021-08-31T09:59:47.278658",
          "status": "completed"
        },
        "tags": [],
        "id": "6543d18d",
        "outputId": "edd5056f-45ee-4e20-dcb2-ac78ce764da3"
      },
      "source": [
        "#Let's check how the data is distributed\n",
        "wine.head()"
      ],
      "id": "6543d18d",
      "execution_count": null,
      "outputs": [
        {
          "data": {
            "text/html": [
              "<div>\n",
              "<style scoped>\n",
              "    .dataframe tbody tr th:only-of-type {\n",
              "        vertical-align: middle;\n",
              "    }\n",
              "\n",
              "    .dataframe tbody tr th {\n",
              "        vertical-align: top;\n",
              "    }\n",
              "\n",
              "    .dataframe thead th {\n",
              "        text-align: right;\n",
              "    }\n",
              "</style>\n",
              "<table border=\"1\" class=\"dataframe\">\n",
              "  <thead>\n",
              "    <tr style=\"text-align: right;\">\n",
              "      <th></th>\n",
              "      <th>fixed acidity</th>\n",
              "      <th>volatile acidity</th>\n",
              "      <th>citric acid</th>\n",
              "      <th>residual sugar</th>\n",
              "      <th>chlorides</th>\n",
              "      <th>free sulfur dioxide</th>\n",
              "      <th>total sulfur dioxide</th>\n",
              "      <th>density</th>\n",
              "      <th>pH</th>\n",
              "      <th>sulphates</th>\n",
              "      <th>alcohol</th>\n",
              "      <th>quality</th>\n",
              "    </tr>\n",
              "  </thead>\n",
              "  <tbody>\n",
              "    <tr>\n",
              "      <th>0</th>\n",
              "      <td>7.4</td>\n",
              "      <td>0.70</td>\n",
              "      <td>0.00</td>\n",
              "      <td>1.9</td>\n",
              "      <td>0.076</td>\n",
              "      <td>11.0</td>\n",
              "      <td>34.0</td>\n",
              "      <td>0.9978</td>\n",
              "      <td>3.51</td>\n",
              "      <td>0.56</td>\n",
              "      <td>9.4</td>\n",
              "      <td>5</td>\n",
              "    </tr>\n",
              "    <tr>\n",
              "      <th>1</th>\n",
              "      <td>7.8</td>\n",
              "      <td>0.88</td>\n",
              "      <td>0.00</td>\n",
              "      <td>2.6</td>\n",
              "      <td>0.098</td>\n",
              "      <td>25.0</td>\n",
              "      <td>67.0</td>\n",
              "      <td>0.9968</td>\n",
              "      <td>3.20</td>\n",
              "      <td>0.68</td>\n",
              "      <td>9.8</td>\n",
              "      <td>5</td>\n",
              "    </tr>\n",
              "    <tr>\n",
              "      <th>2</th>\n",
              "      <td>7.8</td>\n",
              "      <td>0.76</td>\n",
              "      <td>0.04</td>\n",
              "      <td>2.3</td>\n",
              "      <td>0.092</td>\n",
              "      <td>15.0</td>\n",
              "      <td>54.0</td>\n",
              "      <td>0.9970</td>\n",
              "      <td>3.26</td>\n",
              "      <td>0.65</td>\n",
              "      <td>9.8</td>\n",
              "      <td>5</td>\n",
              "    </tr>\n",
              "    <tr>\n",
              "      <th>3</th>\n",
              "      <td>11.2</td>\n",
              "      <td>0.28</td>\n",
              "      <td>0.56</td>\n",
              "      <td>1.9</td>\n",
              "      <td>0.075</td>\n",
              "      <td>17.0</td>\n",
              "      <td>60.0</td>\n",
              "      <td>0.9980</td>\n",
              "      <td>3.16</td>\n",
              "      <td>0.58</td>\n",
              "      <td>9.8</td>\n",
              "      <td>6</td>\n",
              "    </tr>\n",
              "    <tr>\n",
              "      <th>4</th>\n",
              "      <td>7.4</td>\n",
              "      <td>0.70</td>\n",
              "      <td>0.00</td>\n",
              "      <td>1.9</td>\n",
              "      <td>0.076</td>\n",
              "      <td>11.0</td>\n",
              "      <td>34.0</td>\n",
              "      <td>0.9978</td>\n",
              "      <td>3.51</td>\n",
              "      <td>0.56</td>\n",
              "      <td>9.4</td>\n",
              "      <td>5</td>\n",
              "    </tr>\n",
              "  </tbody>\n",
              "</table>\n",
              "</div>"
            ],
            "text/plain": [
              "   fixed acidity  volatile acidity  citric acid  residual sugar  chlorides  \\\n",
              "0            7.4              0.70         0.00             1.9      0.076   \n",
              "1            7.8              0.88         0.00             2.6      0.098   \n",
              "2            7.8              0.76         0.04             2.3      0.092   \n",
              "3           11.2              0.28         0.56             1.9      0.075   \n",
              "4            7.4              0.70         0.00             1.9      0.076   \n",
              "\n",
              "   free sulfur dioxide  total sulfur dioxide  density    pH  sulphates  \\\n",
              "0                 11.0                  34.0   0.9978  3.51       0.56   \n",
              "1                 25.0                  67.0   0.9968  3.20       0.68   \n",
              "2                 15.0                  54.0   0.9970  3.26       0.65   \n",
              "3                 17.0                  60.0   0.9980  3.16       0.58   \n",
              "4                 11.0                  34.0   0.9978  3.51       0.56   \n",
              "\n",
              "   alcohol  quality  \n",
              "0      9.4        5  \n",
              "1      9.8        5  \n",
              "2      9.8        5  \n",
              "3      9.8        6  \n",
              "4      9.4        5  "
            ]
          },
          "execution_count": 2,
          "metadata": {},
          "output_type": "execute_result"
        }
      ]
    },
    {
      "cell_type": "code",
      "metadata": {
        "id": "sN2d_TkxWPeU"
      },
      "source": [
        ""
      ],
      "id": "sN2d_TkxWPeU",
      "execution_count": null,
      "outputs": []
    },
    {
      "cell_type": "markdown",
      "metadata": {
        "id": "AnMIRWznWQwf"
      },
      "source": [
        "# Quality 상관분석 (Heatmap)"
      ],
      "id": "AnMIRWznWQwf"
    },
    {
      "cell_type": "code",
      "metadata": {
        "execution": {
          "iopub.execute_input": "2021-08-31T09:59:47.392494Z",
          "iopub.status.busy": "2021-08-31T09:59:47.391654Z",
          "iopub.status.idle": "2021-08-31T09:59:49.451197Z",
          "shell.execute_reply": "2021-08-31T09:59:49.451695Z",
          "shell.execute_reply.started": "2021-08-31T09:56:53.547667Z"
        },
        "papermill": {
          "duration": 2.087722,
          "end_time": "2021-08-31T09:59:49.451856",
          "exception": false,
          "start_time": "2021-08-31T09:59:47.364134",
          "status": "completed"
        },
        "tags": [],
        "id": "4c8f9a47",
        "outputId": "ac1b7804-805e-4b92-89cb-03e29f3c8377"
      },
      "source": [
        "import seaborn as sns\n",
        "import matplotlib.pyplot as plt\n",
        "plt.figure(figsize=(9, 9))\n",
        "corr = wine.corr()\n",
        "sns.heatmap(corr, cmap='RdBu',annot=True)"
      ],
      "id": "4c8f9a47",
      "execution_count": null,
      "outputs": [
        {
          "data": {
            "text/plain": [
              "<AxesSubplot:>"
            ]
          },
          "execution_count": 3,
          "metadata": {},
          "output_type": "execute_result"
        },
        {
          "data": {
            "image/png": "[encoded data removed]",
            "text/plain": [
              "<Figure size 648x648 with 2 Axes>"
            ]
          },
          "metadata": {
            "needs_background": "light"
          },
          "output_type": "display_data"
        }
      ]
    },
    {
      "cell_type": "code",
      "metadata": {
        "execution": {
          "iopub.execute_input": "2021-08-31T09:59:49.510207Z",
          "iopub.status.busy": "2021-08-31T09:59:49.509451Z",
          "iopub.status.idle": "2021-08-31T09:59:49.539414Z",
          "shell.execute_reply": "2021-08-31T09:59:49.540021Z",
          "shell.execute_reply.started": "2021-08-31T09:56:55.080445Z"
        },
        "papermill": {
          "duration": 0.061271,
          "end_time": "2021-08-31T09:59:49.540228",
          "exception": false,
          "start_time": "2021-08-31T09:59:49.478957",
          "status": "completed"
        },
        "tags": [],
        "id": "050b3cdf",
        "outputId": "1085a8fb-d81c-46ea-ae67-fdce5088a9aa"
      },
      "source": [
        "#correlated features with quality\n",
        "cor_feat = abs(corr[\"quality\"])\n",
        "\n",
        "#relevant features\n",
        "rel_feat = cor_feat[cor_feat>0.15]\n",
        "rel_feat"
      ],
      "id": "050b3cdf",
      "execution_count": null,
      "outputs": [
        {
          "data": {
            "text/plain": [
              "volatile acidity        0.390371\n",
              "citric acid             0.230955\n",
              "total sulfur dioxide    0.205163\n",
              "density                 0.172812\n",
              "sulphates               0.241983\n",
              "alcohol                 0.484927\n",
              "quality                 1.000000\n",
              "Name: quality, dtype: float64"
            ]
          },
          "execution_count": 4,
          "metadata": {},
          "output_type": "execute_result"
        }
      ]
    },
    {
      "cell_type": "code",
      "metadata": {
        "execution": {
          "iopub.execute_input": "2021-08-31T09:59:49.598923Z",
          "iopub.status.busy": "2021-08-31T09:59:49.598117Z",
          "iopub.status.idle": "2021-08-31T09:59:49.605508Z",
          "shell.execute_reply": "2021-08-31T09:59:49.604895Z",
          "shell.execute_reply.started": "2021-08-31T09:56:55.101495Z"
        },
        "papermill": {
          "duration": 0.038106,
          "end_time": "2021-08-31T09:59:49.605674",
          "exception": false,
          "start_time": "2021-08-31T09:59:49.567568",
          "status": "completed"
        },
        "tags": [],
        "id": "b42f3e77",
        "outputId": "1c957d63-04b2-4e33-a1a1-fb0ea8af912e"
      },
      "source": [
        "rel_feat.index"
      ],
      "id": "b42f3e77",
      "execution_count": null,
      "outputs": [
        {
          "data": {
            "text/plain": [
              "Index(['volatile acidity', 'citric acid', 'total sulfur dioxide', 'density',\n",
              "       'sulphates', 'alcohol', 'quality'],\n",
              "      dtype='object')"
            ]
          },
          "execution_count": 5,
          "metadata": {},
          "output_type": "execute_result"
        }
      ]
    },
    {
      "cell_type": "code",
      "metadata": {
        "execution": {
          "iopub.execute_input": "2021-08-31T09:59:49.679603Z",
          "iopub.status.busy": "2021-08-31T09:59:49.678626Z",
          "iopub.status.idle": "2021-08-31T09:59:49.682353Z",
          "shell.execute_reply": "2021-08-31T09:59:49.681750Z",
          "shell.execute_reply.started": "2021-08-31T09:56:55.114523Z"
        },
        "papermill": {
          "duration": 0.049109,
          "end_time": "2021-08-31T09:59:49.682537",
          "exception": false,
          "start_time": "2021-08-31T09:59:49.633428",
          "status": "completed"
        },
        "tags": [],
        "id": "af824f8d"
      },
      "source": [
        "# 상관도가 낮은 변수 제거\n",
        "for i in wine.columns:\n",
        "    if i == \"quality\":\n",
        "        continue\n",
        "    if i not in rel_feat.index:\n",
        "        wine = wine.drop(i, axis = 1)\n",
        "        wine_test = wine_test.drop(i, axis = 1)\n"
      ],
      "id": "af824f8d",
      "execution_count": null,
      "outputs": []
    },
    {
      "cell_type": "code",
      "metadata": {
        "execution": {
          "iopub.execute_input": "2021-08-31T09:59:49.757317Z",
          "iopub.status.busy": "2021-08-31T09:59:49.756253Z",
          "iopub.status.idle": "2021-08-31T09:59:49.761975Z",
          "shell.execute_reply": "2021-08-31T09:59:49.761165Z",
          "shell.execute_reply.started": "2021-08-31T09:56:55.137823Z"
        },
        "papermill": {
          "duration": 0.051012,
          "end_time": "2021-08-31T09:59:49.762151",
          "exception": false,
          "start_time": "2021-08-31T09:59:49.711139",
          "status": "completed"
        },
        "tags": [],
        "id": "2fe6a229",
        "outputId": "7967d7ee-7bc5-4b62-8070-d0cabab764ad"
      },
      "source": [
        "wine.head()"
      ],
      "id": "2fe6a229",
      "execution_count": null,
      "outputs": [
        {
          "data": {
            "text/html": [
              "<div>\n",
              "<style scoped>\n",
              "    .dataframe tbody tr th:only-of-type {\n",
              "        vertical-align: middle;\n",
              "    }\n",
              "\n",
              "    .dataframe tbody tr th {\n",
              "        vertical-align: top;\n",
              "    }\n",
              "\n",
              "    .dataframe thead th {\n",
              "        text-align: right;\n",
              "    }\n",
              "</style>\n",
              "<table border=\"1\" class=\"dataframe\">\n",
              "  <thead>\n",
              "    <tr style=\"text-align: right;\">\n",
              "      <th></th>\n",
              "      <th>volatile acidity</th>\n",
              "      <th>citric acid</th>\n",
              "      <th>total sulfur dioxide</th>\n",
              "      <th>density</th>\n",
              "      <th>sulphates</th>\n",
              "      <th>alcohol</th>\n",
              "      <th>quality</th>\n",
              "    </tr>\n",
              "  </thead>\n",
              "  <tbody>\n",
              "    <tr>\n",
              "      <th>0</th>\n",
              "      <td>0.70</td>\n",
              "      <td>0.00</td>\n",
              "      <td>34.0</td>\n",
              "      <td>0.9978</td>\n",
              "      <td>0.56</td>\n",
              "      <td>9.4</td>\n",
              "      <td>5</td>\n",
              "    </tr>\n",
              "    <tr>\n",
              "      <th>1</th>\n",
              "      <td>0.88</td>\n",
              "      <td>0.00</td>\n",
              "      <td>67.0</td>\n",
              "      <td>0.9968</td>\n",
              "      <td>0.68</td>\n",
              "      <td>9.8</td>\n",
              "      <td>5</td>\n",
              "    </tr>\n",
              "    <tr>\n",
              "      <th>2</th>\n",
              "      <td>0.76</td>\n",
              "      <td>0.04</td>\n",
              "      <td>54.0</td>\n",
              "      <td>0.9970</td>\n",
              "      <td>0.65</td>\n",
              "      <td>9.8</td>\n",
              "      <td>5</td>\n",
              "    </tr>\n",
              "    <tr>\n",
              "      <th>3</th>\n",
              "      <td>0.28</td>\n",
              "      <td>0.56</td>\n",
              "      <td>60.0</td>\n",
              "      <td>0.9980</td>\n",
              "      <td>0.58</td>\n",
              "      <td>9.8</td>\n",
              "      <td>6</td>\n",
              "    </tr>\n",
              "    <tr>\n",
              "      <th>4</th>\n",
              "      <td>0.70</td>\n",
              "      <td>0.00</td>\n",
              "      <td>34.0</td>\n",
              "      <td>0.9978</td>\n",
              "      <td>0.56</td>\n",
              "      <td>9.4</td>\n",
              "      <td>5</td>\n",
              "    </tr>\n",
              "  </tbody>\n",
              "</table>\n",
              "</div>"
            ],
            "text/plain": [
              "   volatile acidity  citric acid  total sulfur dioxide  density  sulphates  \\\n",
              "0              0.70         0.00                  34.0   0.9978       0.56   \n",
              "1              0.88         0.00                  67.0   0.9968       0.68   \n",
              "2              0.76         0.04                  54.0   0.9970       0.65   \n",
              "3              0.28         0.56                  60.0   0.9980       0.58   \n",
              "4              0.70         0.00                  34.0   0.9978       0.56   \n",
              "\n",
              "   alcohol  quality  \n",
              "0      9.4        5  \n",
              "1      9.8        5  \n",
              "2      9.8        5  \n",
              "3      9.8        6  \n",
              "4      9.4        5  "
            ]
          },
          "execution_count": 7,
          "metadata": {},
          "output_type": "execute_result"
        }
      ]
    },
    {
      "cell_type": "code",
      "metadata": {
        "execution": {
          "iopub.execute_input": "2021-08-31T09:59:49.835881Z",
          "iopub.status.busy": "2021-08-31T09:59:49.834893Z",
          "iopub.status.idle": "2021-08-31T09:59:49.839995Z",
          "shell.execute_reply": "2021-08-31T09:59:49.839421Z",
          "shell.execute_reply.started": "2021-08-31T09:56:55.168753Z"
        },
        "papermill": {
          "duration": 0.048505,
          "end_time": "2021-08-31T09:59:49.840152",
          "exception": false,
          "start_time": "2021-08-31T09:59:49.791647",
          "status": "completed"
        },
        "tags": [],
        "id": "102fb8db",
        "outputId": "078e7120-209c-410e-ca1e-11a3860f7069"
      },
      "source": [
        "wine_test.head()"
      ],
      "id": "102fb8db",
      "execution_count": null,
      "outputs": [
        {
          "data": {
            "text/html": [
              "<div>\n",
              "<style scoped>\n",
              "    .dataframe tbody tr th:only-of-type {\n",
              "        vertical-align: middle;\n",
              "    }\n",
              "\n",
              "    .dataframe tbody tr th {\n",
              "        vertical-align: top;\n",
              "    }\n",
              "\n",
              "    .dataframe thead th {\n",
              "        text-align: right;\n",
              "    }\n",
              "</style>\n",
              "<table border=\"1\" class=\"dataframe\">\n",
              "  <thead>\n",
              "    <tr style=\"text-align: right;\">\n",
              "      <th></th>\n",
              "      <th>volatile acidity</th>\n",
              "      <th>citric acid</th>\n",
              "      <th>total sulfur dioxide</th>\n",
              "      <th>density</th>\n",
              "      <th>sulphates</th>\n",
              "      <th>alcohol</th>\n",
              "    </tr>\n",
              "  </thead>\n",
              "  <tbody>\n",
              "    <tr>\n",
              "      <th>0</th>\n",
              "      <td>0.670</td>\n",
              "      <td>0.02</td>\n",
              "      <td>92</td>\n",
              "      <td>0.99566</td>\n",
              "      <td>0.68</td>\n",
              "      <td>11.066667</td>\n",
              "    </tr>\n",
              "    <tr>\n",
              "      <th>1</th>\n",
              "      <td>0.370</td>\n",
              "      <td>0.32</td>\n",
              "      <td>28</td>\n",
              "      <td>0.99470</td>\n",
              "      <td>0.73</td>\n",
              "      <td>11.300000</td>\n",
              "    </tr>\n",
              "    <tr>\n",
              "      <th>2</th>\n",
              "      <td>0.785</td>\n",
              "      <td>0.19</td>\n",
              "      <td>98</td>\n",
              "      <td>0.99713</td>\n",
              "      <td>0.52</td>\n",
              "      <td>9.566667</td>\n",
              "    </tr>\n",
              "    <tr>\n",
              "      <th>3</th>\n",
              "      <td>0.630</td>\n",
              "      <td>0.02</td>\n",
              "      <td>30</td>\n",
              "      <td>0.99712</td>\n",
              "      <td>0.75</td>\n",
              "      <td>9.800000</td>\n",
              "    </tr>\n",
              "    <tr>\n",
              "      <th>4</th>\n",
              "      <td>0.580</td>\n",
              "      <td>0.20</td>\n",
              "      <td>22</td>\n",
              "      <td>0.99322</td>\n",
              "      <td>0.49</td>\n",
              "      <td>11.700000</td>\n",
              "    </tr>\n",
              "  </tbody>\n",
              "</table>\n",
              "</div>"
            ],
            "text/plain": [
              "   volatile acidity  citric acid  total sulfur dioxide  density  sulphates  \\\n",
              "0             0.670         0.02                    92  0.99566       0.68   \n",
              "1             0.370         0.32                    28  0.99470       0.73   \n",
              "2             0.785         0.19                    98  0.99713       0.52   \n",
              "3             0.630         0.02                    30  0.99712       0.75   \n",
              "4             0.580         0.20                    22  0.99322       0.49   \n",
              "\n",
              "     alcohol  \n",
              "0  11.066667  \n",
              "1  11.300000  \n",
              "2   9.566667  \n",
              "3   9.800000  \n",
              "4  11.700000  "
            ]
          },
          "execution_count": 8,
          "metadata": {},
          "output_type": "execute_result"
        }
      ]
    },
    {
      "cell_type": "markdown",
      "metadata": {
        "id": "qmxPb8BaWq4s"
      },
      "source": [
        "# 이상치 제거"
      ],
      "id": "qmxPb8BaWq4s"
    },
    {
      "cell_type": "code",
      "metadata": {
        "execution": {
          "iopub.execute_input": "2021-08-31T09:59:49.906815Z",
          "iopub.status.busy": "2021-08-31T09:59:49.904354Z",
          "iopub.status.idle": "2021-08-31T09:59:50.172017Z",
          "shell.execute_reply": "2021-08-31T09:59:50.171366Z",
          "shell.execute_reply.started": "2021-08-31T09:56:55.194674Z"
        },
        "papermill": {
          "duration": 0.303494,
          "end_time": "2021-08-31T09:59:50.172193",
          "exception": false,
          "start_time": "2021-08-31T09:59:49.868699",
          "status": "completed"
        },
        "tags": [],
        "id": "7b25d0be",
        "outputId": "1e812fbe-cfe4-465a-bef8-4155b5d9c13f"
      },
      "source": [
        "# alchohol의 5점 6점에 점으로 표시된 이상치 확인 가능\n",
        "\n",
        "sns.boxplot(x='quality', y='alcohol', data = wine)"
      ],
      "id": "7b25d0be",
      "execution_count": null,
      "outputs": [
        {
          "data": {
            "text/plain": [
              "<AxesSubplot:xlabel='quality', ylabel='alcohol'>"
            ]
          },
          "execution_count": 9,
          "metadata": {},
          "output_type": "execute_result"
        },
        {
          "data": {
            "image/png": "[encoded data removed]",
            "text/plain": [
              "<Figure size 432x288 with 1 Axes>"
            ]
          },
          "metadata": {
            "needs_background": "light"
          },
          "output_type": "display_data"
        }
      ]
    },
    {
      "cell_type": "code",
      "metadata": {
        "execution": {
          "iopub.execute_input": "2021-08-31T09:59:50.247649Z",
          "iopub.status.busy": "2021-08-31T09:59:50.245597Z",
          "iopub.status.idle": "2021-08-31T09:59:50.297202Z",
          "shell.execute_reply": "2021-08-31T09:59:50.295878Z",
          "shell.execute_reply.started": "2021-08-31T09:57:17.972230Z"
        },
        "papermill": {
          "duration": 0.094477,
          "end_time": "2021-08-31T09:59:50.297394",
          "exception": false,
          "start_time": "2021-08-31T09:59:50.202917",
          "status": "completed"
        },
        "tags": [],
        "id": "6f5fdb4a"
      },
      "source": [
        "# colname 리스트 안에 적절한 컬럼명 추가\n",
        "\n",
        "import numpy as np\n",
        "for colname in [\"volatile acidity\",\"alcohol\",\"sulphates\"]:\n",
        "    for i in wine['quality'].unique():\n",
        "        target = wine[wine['quality']==i][colname]\n",
        "        quantile_25 = np.percentile(target.values, 25)\n",
        "        quantile_75 = np.percentile(target.values, 75)\n",
        "        # IQR을 구하고, IQR에 1.5를 곱하여 최대값과 최소값 지점 구함. \n",
        "        iqr = quantile_75 - quantile_25\n",
        "        iqr_weight = iqr * 1.5\n",
        "        lowest_val = quantile_25 - iqr_weight\n",
        "        highest_val = quantile_75 + iqr_weight\n",
        "        # 최대값 보다 크거나, 최소값 보다 작은 값을 아웃라이어로 설정하고 DataFrame index 반환. \n",
        "        outlier_index = target[(target < lowest_val) | (target > highest_val)].index\n",
        "        wine.drop(outlier_index, axis=0, inplace=True)"
      ],
      "id": "6f5fdb4a",
      "execution_count": null,
      "outputs": []
    },
    {
      "cell_type": "code",
      "metadata": {
        "execution": {
          "iopub.execute_input": "2021-08-31T09:59:50.367460Z",
          "iopub.status.busy": "2021-08-31T09:59:50.366642Z",
          "iopub.status.idle": "2021-08-31T09:59:50.375211Z",
          "shell.execute_reply": "2021-08-31T09:59:50.374380Z",
          "shell.execute_reply.started": "2021-08-31T09:57:20.642924Z"
        },
        "papermill": {
          "duration": 0.046717,
          "end_time": "2021-08-31T09:59:50.375390",
          "exception": false,
          "start_time": "2021-08-31T09:59:50.328673",
          "status": "completed"
        },
        "tags": [],
        "colab": {
          "base_uri": "https://localhost:8080/",
          "height": 155
        },
        "id": "ee6f2f03",
        "outputId": "ca51a940-d550-4473-a578-fe516275c8fa"
      },
      "source": [
        "\"\"\"target = wine[wine['quality']==6][\"alcohol\"]\n",
        "quantile_25 = np.percentile(target.values, 25)\n",
        "quantile_75 = np.percentile(target.values, 75)\n",
        "# IQR을 구하고, IQR에 1.5를 곱하여 최대값과 최소값 지점 구함. \n",
        "iqr = quantile_75 - quantile_25\n",
        "iqr_weight = iqr * 1.5\n",
        "lowest_val = quantile_25 - iqr_weight\n",
        "highest_val = quantile_75 + iqr_weight\n",
        "# 최대값 보다 크거나, 최소값 보다 작은 값을 아웃라이어로 설정하고 DataFrame index 반환. \n",
        "outlier_index = target[(target < lowest_val) | (target > highest_val)].index\n",
        "wine.drop(outlier_index, axis=0, inplace=True)\n",
        "\"\"\""
      ],
      "id": "ee6f2f03",
      "execution_count": 1,
      "outputs": [
        {
          "output_type": "error",
          "ename": "SyntaxError",
          "evalue": "ignored",
          "traceback": [
            "\u001b[0;36m  File \u001b[0;32m\"<ipython-input-1-1ab4c5059260>\"\u001b[0;36m, line \u001b[0;32m11\u001b[0m\n\u001b[0;31m    wine.drop(outlier_index, axis=0, inplace=True)\u001b[0m\n\u001b[0m                                                  \n^\u001b[0m\n\u001b[0;31mSyntaxError\u001b[0m\u001b[0;31m:\u001b[0m EOF while scanning triple-quoted string literal\n"
          ]
        }
      ]
    },
    {
      "cell_type": "code",
      "metadata": {
        "execution": {
          "iopub.execute_input": "2021-08-31T09:59:50.450343Z",
          "iopub.status.busy": "2021-08-31T09:59:50.449224Z",
          "iopub.status.idle": "2021-08-31T09:59:50.682792Z",
          "shell.execute_reply": "2021-08-31T09:59:50.682156Z",
          "shell.execute_reply.started": "2021-08-31T09:57:21.502622Z"
        },
        "papermill": {
          "duration": 0.275132,
          "end_time": "2021-08-31T09:59:50.682964",
          "exception": false,
          "start_time": "2021-08-31T09:59:50.407832",
          "status": "completed"
        },
        "tags": [],
        "id": "40f41091",
        "outputId": "7044c83d-8bea-4a8c-fe94-72635a59f8bf"
      },
      "source": [
        "# 이상치 제거 확인\n",
        "sns.boxplot(x='quality', y='alcohol', data = wine)"
      ],
      "id": "40f41091",
      "execution_count": null,
      "outputs": [
        {
          "data": {
            "text/plain": [
              "<AxesSubplot:xlabel='quality', ylabel='alcohol'>"
            ]
          },
          "execution_count": 12,
          "metadata": {},
          "output_type": "execute_result"
        },
        {
          "data": {
            "image/png": "[encoded data removed]",
            "text/plain": [
              "<Figure size 432x288 with 1 Axes>"
            ]
          },
          "metadata": {
            "needs_background": "light"
          },
          "output_type": "display_data"
        }
      ]
    },
    {
      "cell_type": "markdown",
      "metadata": {
        "id": "4aNqXG30XLr8"
      },
      "source": [
        "# quality에 1,0 레이블 달기 / 데이터셋 나누기 등"
      ],
      "id": "4aNqXG30XLr8"
    },
    {
      "cell_type": "code",
      "metadata": {
        "execution": {
          "iopub.execute_input": "2021-08-31T09:59:50.752826Z",
          "iopub.status.busy": "2021-08-31T09:59:50.752120Z",
          "iopub.status.idle": "2021-08-31T09:59:51.056055Z",
          "shell.execute_reply": "2021-08-31T09:59:51.055439Z",
          "shell.execute_reply.started": "2021-08-31T09:57:22.498676Z"
        },
        "papermill": {
          "duration": 0.342922,
          "end_time": "2021-08-31T09:59:51.056196",
          "exception": false,
          "start_time": "2021-08-31T09:59:50.713274",
          "status": "completed"
        },
        "tags": [],
        "id": "749600cb"
      },
      "source": [
        "bins = (0, 5, 10)\n",
        "group_names = ['bad', 'good']\n",
        "wine['quality'] = pd.cut(wine['quality'], bins = bins, labels = group_names)\n",
        "\n",
        "from sklearn.preprocessing import LabelEncoder\n",
        "from sklearn.model_selection import train_test_split\n",
        "\n",
        "#Now lets assign a labels to our quality variable\n",
        "label_quality = LabelEncoder()\n",
        "#Bad becomes 0 and good becomes 1 \n",
        "wine['quality'] = label_quality.fit_transform(wine['quality'])\n",
        "#Now seperate the dataset as response variable and feature variabes\n",
        "X = wine.drop('quality', axis = 1)\n",
        "y = wine['quality']\n"
      ],
      "id": "749600cb",
      "execution_count": null,
      "outputs": []
    },
    {
      "cell_type": "code",
      "metadata": {
        "execution": {
          "iopub.execute_input": "2021-08-31T09:59:51.124354Z",
          "iopub.status.busy": "2021-08-31T09:59:51.123610Z",
          "iopub.status.idle": "2021-08-31T09:59:51.127198Z",
          "shell.execute_reply": "2021-08-31T09:59:51.126595Z",
          "shell.execute_reply.started": "2021-08-31T09:57:23.520575Z"
        },
        "papermill": {
          "duration": 0.040081,
          "end_time": "2021-08-31T09:59:51.127338",
          "exception": false,
          "start_time": "2021-08-31T09:59:51.087257",
          "status": "completed"
        },
        "tags": [],
        "id": "af8a846c"
      },
      "source": [
        "# splitting the dataset\n",
        "# train : val= 9 : 1\n",
        "\n",
        "X_train, X_val, y_train, y_val = train_test_split(X, y, test_size = 0.1, random_state = 42, shuffle=False)"
      ],
      "id": "af8a846c",
      "execution_count": null,
      "outputs": []
    },
    {
      "cell_type": "code",
      "metadata": {
        "execution": {
          "iopub.execute_input": "2021-08-31T09:59:51.209322Z",
          "iopub.status.busy": "2021-08-31T09:59:51.208174Z",
          "iopub.status.idle": "2021-08-31T09:59:51.213755Z",
          "shell.execute_reply": "2021-08-31T09:59:51.214276Z",
          "shell.execute_reply.started": "2021-08-31T09:57:25.348459Z"
        },
        "papermill": {
          "duration": 0.054579,
          "end_time": "2021-08-31T09:59:51.214453",
          "exception": false,
          "start_time": "2021-08-31T09:59:51.159874",
          "status": "completed"
        },
        "tags": [],
        "id": "86d793a3",
        "outputId": "81bbe387-218a-4029-b8af-087ca249b2a0"
      },
      "source": [
        "X_train"
      ],
      "id": "86d793a3",
      "execution_count": null,
      "outputs": [
        {
          "data": {
            "text/html": [
              "<div>\n",
              "<style scoped>\n",
              "    .dataframe tbody tr th:only-of-type {\n",
              "        vertical-align: middle;\n",
              "    }\n",
              "\n",
              "    .dataframe tbody tr th {\n",
              "        vertical-align: top;\n",
              "    }\n",
              "\n",
              "    .dataframe thead th {\n",
              "        text-align: right;\n",
              "    }\n",
              "</style>\n",
              "<table border=\"1\" class=\"dataframe\">\n",
              "  <thead>\n",
              "    <tr style=\"text-align: right;\">\n",
              "      <th></th>\n",
              "      <th>volatile acidity</th>\n",
              "      <th>citric acid</th>\n",
              "      <th>total sulfur dioxide</th>\n",
              "      <th>density</th>\n",
              "      <th>sulphates</th>\n",
              "      <th>alcohol</th>\n",
              "    </tr>\n",
              "  </thead>\n",
              "  <tbody>\n",
              "    <tr>\n",
              "      <th>0</th>\n",
              "      <td>0.700</td>\n",
              "      <td>0.00</td>\n",
              "      <td>34.0</td>\n",
              "      <td>0.99780</td>\n",
              "      <td>0.56</td>\n",
              "      <td>9.4</td>\n",
              "    </tr>\n",
              "    <tr>\n",
              "      <th>1</th>\n",
              "      <td>0.880</td>\n",
              "      <td>0.00</td>\n",
              "      <td>67.0</td>\n",
              "      <td>0.99680</td>\n",
              "      <td>0.68</td>\n",
              "      <td>9.8</td>\n",
              "    </tr>\n",
              "    <tr>\n",
              "      <th>2</th>\n",
              "      <td>0.760</td>\n",
              "      <td>0.04</td>\n",
              "      <td>54.0</td>\n",
              "      <td>0.99700</td>\n",
              "      <td>0.65</td>\n",
              "      <td>9.8</td>\n",
              "    </tr>\n",
              "    <tr>\n",
              "      <th>3</th>\n",
              "      <td>0.280</td>\n",
              "      <td>0.56</td>\n",
              "      <td>60.0</td>\n",
              "      <td>0.99800</td>\n",
              "      <td>0.58</td>\n",
              "      <td>9.8</td>\n",
              "    </tr>\n",
              "    <tr>\n",
              "      <th>4</th>\n",
              "      <td>0.700</td>\n",
              "      <td>0.00</td>\n",
              "      <td>34.0</td>\n",
              "      <td>0.99780</td>\n",
              "      <td>0.56</td>\n",
              "      <td>9.4</td>\n",
              "    </tr>\n",
              "    <tr>\n",
              "      <th>...</th>\n",
              "      <td>...</td>\n",
              "      <td>...</td>\n",
              "      <td>...</td>\n",
              "      <td>...</td>\n",
              "      <td>...</td>\n",
              "      <td>...</td>\n",
              "    </tr>\n",
              "    <tr>\n",
              "      <th>1286</th>\n",
              "      <td>0.160</td>\n",
              "      <td>0.44</td>\n",
              "      <td>31.0</td>\n",
              "      <td>0.99328</td>\n",
              "      <td>0.54</td>\n",
              "      <td>12.4</td>\n",
              "    </tr>\n",
              "    <tr>\n",
              "      <th>1290</th>\n",
              "      <td>0.740</td>\n",
              "      <td>0.00</td>\n",
              "      <td>12.0</td>\n",
              "      <td>0.99521</td>\n",
              "      <td>0.59</td>\n",
              "      <td>11.0</td>\n",
              "    </tr>\n",
              "    <tr>\n",
              "      <th>1291</th>\n",
              "      <td>0.635</td>\n",
              "      <td>0.10</td>\n",
              "      <td>60.0</td>\n",
              "      <td>0.99638</td>\n",
              "      <td>0.75</td>\n",
              "      <td>10.9</td>\n",
              "    </tr>\n",
              "    <tr>\n",
              "      <th>1292</th>\n",
              "      <td>0.395</td>\n",
              "      <td>0.13</td>\n",
              "      <td>28.0</td>\n",
              "      <td>0.99362</td>\n",
              "      <td>0.67</td>\n",
              "      <td>12.4</td>\n",
              "    </tr>\n",
              "    <tr>\n",
              "      <th>1293</th>\n",
              "      <td>0.755</td>\n",
              "      <td>0.00</td>\n",
              "      <td>12.0</td>\n",
              "      <td>0.99672</td>\n",
              "      <td>0.49</td>\n",
              "      <td>9.7</td>\n",
              "    </tr>\n",
              "  </tbody>\n",
              "</table>\n",
              "<p>1179 rows × 6 columns</p>\n",
              "</div>"
            ],
            "text/plain": [
              "      volatile acidity  citric acid  total sulfur dioxide  density  sulphates  \\\n",
              "0                0.700         0.00                  34.0  0.99780       0.56   \n",
              "1                0.880         0.00                  67.0  0.99680       0.68   \n",
              "2                0.760         0.04                  54.0  0.99700       0.65   \n",
              "3                0.280         0.56                  60.0  0.99800       0.58   \n",
              "4                0.700         0.00                  34.0  0.99780       0.56   \n",
              "...                ...          ...                   ...      ...        ...   \n",
              "1286             0.160         0.44                  31.0  0.99328       0.54   \n",
              "1290             0.740         0.00                  12.0  0.99521       0.59   \n",
              "1291             0.635         0.10                  60.0  0.99638       0.75   \n",
              "1292             0.395         0.13                  28.0  0.99362       0.67   \n",
              "1293             0.755         0.00                  12.0  0.99672       0.49   \n",
              "\n",
              "      alcohol  \n",
              "0         9.4  \n",
              "1         9.8  \n",
              "2         9.8  \n",
              "3         9.8  \n",
              "4         9.4  \n",
              "...       ...  \n",
              "1286     12.4  \n",
              "1290     11.0  \n",
              "1291     10.9  \n",
              "1292     12.4  \n",
              "1293      9.7  \n",
              "\n",
              "[1179 rows x 6 columns]"
            ]
          },
          "execution_count": 15,
          "metadata": {},
          "output_type": "execute_result"
        }
      ]
    },
    {
      "cell_type": "code",
      "metadata": {
        "execution": {
          "iopub.execute_input": "2021-08-31T09:59:51.296376Z",
          "iopub.status.busy": "2021-08-31T09:59:51.295375Z",
          "iopub.status.idle": "2021-08-31T09:59:51.300505Z",
          "shell.execute_reply": "2021-08-31T09:59:51.299841Z",
          "shell.execute_reply.started": "2021-08-31T09:57:26.124733Z"
        },
        "papermill": {
          "duration": 0.054622,
          "end_time": "2021-08-31T09:59:51.300643",
          "exception": false,
          "start_time": "2021-08-31T09:59:51.246021",
          "status": "completed"
        },
        "tags": [],
        "id": "e6c1644b",
        "outputId": "28ba1647-a20e-450a-d0af-987ec5c85aa0"
      },
      "source": [
        "X_val"
      ],
      "id": "e6c1644b",
      "execution_count": null,
      "outputs": [
        {
          "data": {
            "text/html": [
              "<div>\n",
              "<style scoped>\n",
              "    .dataframe tbody tr th:only-of-type {\n",
              "        vertical-align: middle;\n",
              "    }\n",
              "\n",
              "    .dataframe tbody tr th {\n",
              "        vertical-align: top;\n",
              "    }\n",
              "\n",
              "    .dataframe thead th {\n",
              "        text-align: right;\n",
              "    }\n",
              "</style>\n",
              "<table border=\"1\" class=\"dataframe\">\n",
              "  <thead>\n",
              "    <tr style=\"text-align: right;\">\n",
              "      <th></th>\n",
              "      <th>volatile acidity</th>\n",
              "      <th>citric acid</th>\n",
              "      <th>total sulfur dioxide</th>\n",
              "      <th>density</th>\n",
              "      <th>sulphates</th>\n",
              "      <th>alcohol</th>\n",
              "    </tr>\n",
              "  </thead>\n",
              "  <tbody>\n",
              "    <tr>\n",
              "      <th>1294</th>\n",
              "      <td>0.635</td>\n",
              "      <td>0.10</td>\n",
              "      <td>60.0</td>\n",
              "      <td>0.99638</td>\n",
              "      <td>0.75</td>\n",
              "      <td>10.9</td>\n",
              "    </tr>\n",
              "    <tr>\n",
              "      <th>1295</th>\n",
              "      <td>0.630</td>\n",
              "      <td>0.00</td>\n",
              "      <td>77.5</td>\n",
              "      <td>0.99558</td>\n",
              "      <td>0.45</td>\n",
              "      <td>9.5</td>\n",
              "    </tr>\n",
              "    <tr>\n",
              "      <th>1296</th>\n",
              "      <td>0.630</td>\n",
              "      <td>0.00</td>\n",
              "      <td>77.5</td>\n",
              "      <td>0.99558</td>\n",
              "      <td>0.45</td>\n",
              "      <td>9.5</td>\n",
              "    </tr>\n",
              "    <tr>\n",
              "      <th>1297</th>\n",
              "      <td>0.530</td>\n",
              "      <td>0.14</td>\n",
              "      <td>29.0</td>\n",
              "      <td>0.99323</td>\n",
              "      <td>0.61</td>\n",
              "      <td>12.1</td>\n",
              "    </tr>\n",
              "    <tr>\n",
              "      <th>1298</th>\n",
              "      <td>0.600</td>\n",
              "      <td>0.00</td>\n",
              "      <td>18.0</td>\n",
              "      <td>0.99191</td>\n",
              "      <td>0.56</td>\n",
              "      <td>12.2</td>\n",
              "    </tr>\n",
              "    <tr>\n",
              "      <th>...</th>\n",
              "      <td>...</td>\n",
              "      <td>...</td>\n",
              "      <td>...</td>\n",
              "      <td>...</td>\n",
              "      <td>...</td>\n",
              "      <td>...</td>\n",
              "    </tr>\n",
              "    <tr>\n",
              "      <th>1434</th>\n",
              "      <td>0.540</td>\n",
              "      <td>0.37</td>\n",
              "      <td>95.0</td>\n",
              "      <td>1.00369</td>\n",
              "      <td>0.77</td>\n",
              "      <td>9.0</td>\n",
              "    </tr>\n",
              "    <tr>\n",
              "      <th>1435</th>\n",
              "      <td>0.540</td>\n",
              "      <td>0.37</td>\n",
              "      <td>95.0</td>\n",
              "      <td>1.00369</td>\n",
              "      <td>0.77</td>\n",
              "      <td>9.0</td>\n",
              "    </tr>\n",
              "    <tr>\n",
              "      <th>1436</th>\n",
              "      <td>0.380</td>\n",
              "      <td>0.38</td>\n",
              "      <td>90.0</td>\n",
              "      <td>0.99914</td>\n",
              "      <td>0.65</td>\n",
              "      <td>8.5</td>\n",
              "    </tr>\n",
              "    <tr>\n",
              "      <th>1437</th>\n",
              "      <td>0.915</td>\n",
              "      <td>0.29</td>\n",
              "      <td>39.0</td>\n",
              "      <td>0.99577</td>\n",
              "      <td>0.54</td>\n",
              "      <td>11.1</td>\n",
              "    </tr>\n",
              "    <tr>\n",
              "      <th>1438</th>\n",
              "      <td>0.590</td>\n",
              "      <td>0.00</td>\n",
              "      <td>8.0</td>\n",
              "      <td>0.99600</td>\n",
              "      <td>0.47</td>\n",
              "      <td>10.3</td>\n",
              "    </tr>\n",
              "  </tbody>\n",
              "</table>\n",
              "<p>131 rows × 6 columns</p>\n",
              "</div>"
            ],
            "text/plain": [
              "      volatile acidity  citric acid  total sulfur dioxide  density  sulphates  \\\n",
              "1294             0.635         0.10                  60.0  0.99638       0.75   \n",
              "1295             0.630         0.00                  77.5  0.99558       0.45   \n",
              "1296             0.630         0.00                  77.5  0.99558       0.45   \n",
              "1297             0.530         0.14                  29.0  0.99323       0.61   \n",
              "1298             0.600         0.00                  18.0  0.99191       0.56   \n",
              "...                ...          ...                   ...      ...        ...   \n",
              "1434             0.540         0.37                  95.0  1.00369       0.77   \n",
              "1435             0.540         0.37                  95.0  1.00369       0.77   \n",
              "1436             0.380         0.38                  90.0  0.99914       0.65   \n",
              "1437             0.915         0.29                  39.0  0.99577       0.54   \n",
              "1438             0.590         0.00                   8.0  0.99600       0.47   \n",
              "\n",
              "      alcohol  \n",
              "1294     10.9  \n",
              "1295      9.5  \n",
              "1296      9.5  \n",
              "1297     12.1  \n",
              "1298     12.2  \n",
              "...       ...  \n",
              "1434      9.0  \n",
              "1435      9.0  \n",
              "1436      8.5  \n",
              "1437     11.1  \n",
              "1438     10.3  \n",
              "\n",
              "[131 rows x 6 columns]"
            ]
          },
          "execution_count": 16,
          "metadata": {},
          "output_type": "execute_result"
        }
      ]
    },
    {
      "cell_type": "code",
      "metadata": {
        "execution": {
          "iopub.execute_input": "2021-08-31T09:59:51.383062Z",
          "iopub.status.busy": "2021-08-31T09:59:51.369993Z",
          "iopub.status.idle": "2021-08-31T10:00:04.179398Z",
          "shell.execute_reply": "2021-08-31T10:00:04.179894Z"
        },
        "papermill": {
          "duration": 12.846961,
          "end_time": "2021-08-31T10:00:04.180141",
          "exception": false,
          "start_time": "2021-08-31T09:59:51.333180",
          "status": "completed"
        },
        "tags": [],
        "id": "278c33cf",
        "outputId": "2f7c7f31-58de-46fb-fd59-ea5762e0814a"
      },
      "source": [
        "!pip install autograd\n",
        "from autograd import numpy\n",
        "from autograd import grad\n",
        "from matplotlib import pyplot"
      ],
      "id": "278c33cf",
      "execution_count": null,
      "outputs": [
        {
          "name": "stdout",
          "output_type": "stream",
          "text": [
            "Collecting autograd\r\n",
            "  Downloading autograd-1.3.tar.gz (38 kB)\r\n",
            "Requirement already satisfied: numpy>=1.12 in /opt/conda/lib/python3.7/site-packages (from autograd) (1.19.5)\r\n",
            "Requirement already satisfied: future>=0.15.2 in /opt/conda/lib/python3.7/site-packages (from autograd) (0.18.2)\r\n",
            "Building wheels for collected packages: autograd\r\n",
            "  Building wheel for autograd (setup.py) ... \u001b[?25l-\b \b\\\b \bdone\r\n",
            "\u001b[?25h  Created wheel for autograd: filename=autograd-1.3-py3-none-any.whl size=47989 sha256=fbfbb3c7c7c223e0f41f17f2c5465427711a412adf515eef18eed8602094e79a\r\n",
            "  Stored in directory: /root/.cache/pip/wheels/ef/32/31/0e87227cd0ca1d99ad51fbe4b54c6fa02afccf7e483d045e04\r\n",
            "Successfully built autograd\r\n",
            "Installing collected packages: autograd\r\n",
            "Successfully installed autograd-1.3\r\n",
            "\u001b[33mWARNING: Running pip as root will break packages and permissions. You should install packages reliably by using venv: https://pip.pypa.io/warnings/venv\u001b[0m\r\n"
          ]
        }
      ]
    },
    {
      "cell_type": "code",
      "metadata": {
        "execution": {
          "iopub.execute_input": "2021-08-31T10:00:04.254353Z",
          "iopub.status.busy": "2021-08-31T10:00:04.253636Z",
          "iopub.status.idle": "2021-08-31T10:00:04.266711Z",
          "shell.execute_reply": "2021-08-31T10:00:04.267230Z",
          "shell.execute_reply.started": "2021-08-31T09:58:05.551154Z"
        },
        "papermill": {
          "duration": 0.052152,
          "end_time": "2021-08-31T10:00:04.267441",
          "exception": false,
          "start_time": "2021-08-31T10:00:04.215289",
          "status": "completed"
        },
        "tags": [],
        "id": "7fafad41"
      },
      "source": [
        "import numpy\n",
        "# calculate mu and sigma\n",
        "mu = numpy.mean(X_train, axis=0)\n",
        "sigma = numpy.std(X_train, axis=0)\n",
        "\n",
        "# normalize the training, validation, and test datasets\n",
        "X_train = (X_train - mu) / sigma\n",
        "X_val = (X_val - mu) / sigma\n",
        "X_test = (wine_test - mu) / sigma\n",
        "\n",
        "X_train = X_train.to_numpy()\n",
        "X_val = X_val.to_numpy()\n",
        "X_test = X_test.to_numpy()"
      ],
      "id": "7fafad41",
      "execution_count": null,
      "outputs": []
    },
    {
      "cell_type": "code",
      "metadata": {
        "execution": {
          "iopub.execute_input": "2021-08-31T10:00:04.340841Z",
          "iopub.status.busy": "2021-08-31T10:00:04.340117Z",
          "iopub.status.idle": "2021-08-31T10:00:04.349769Z",
          "shell.execute_reply": "2021-08-31T10:00:04.350277Z",
          "shell.execute_reply.started": "2021-08-31T09:58:07.587692Z"
        },
        "papermill": {
          "duration": 0.048153,
          "end_time": "2021-08-31T10:00:04.350478",
          "exception": false,
          "start_time": "2021-08-31T10:00:04.302325",
          "status": "completed"
        },
        "tags": [],
        "id": "c155c085"
      },
      "source": [
        "def logistic(x):\n",
        "    \"\"\"Logistic/sigmoid function.\n",
        "    \n",
        "    Arguments\n",
        "    ---------\n",
        "    x : numpy.ndarray\n",
        "        The input to the logistic function.\n",
        "    \n",
        "    Returns\n",
        "    -------\n",
        "    numpy.ndarray\n",
        "        The output.\n",
        "        \n",
        "    Notes\n",
        "    -----\n",
        "    The function does not restrict the shape of the input array. The output\n",
        "    has the same shape as the input.\n",
        "    \"\"\"\n",
        "    return 1. / (1. + numpy.exp(-x))\n",
        "\n",
        "def logistic_model(x, params):\n",
        "    \"\"\"A logistic regression model.\n",
        "    \n",
        "    A a logistic regression is y = sigmoid(x * w + b), where the operator *\n",
        "    denotes a mat-vec multiplication.\n",
        "    \n",
        "    Arguments\n",
        "    ---------\n",
        "    x : numpy.ndarray\n",
        "        The input of the model. The shape should be (n_images, n_total_pixels).\n",
        "    params : a tuple/list of two elemets\n",
        "        The first element is a 1D array with shape (n_total_pixels). The\n",
        "        second element is a scalar (the intercept)\n",
        "\n",
        "    Returns\n",
        "    -------\n",
        "    probabilities : numpy.ndarray\n",
        "        The output is a 1D array with length n_samples.\n",
        "    \"\"\"\n",
        "    return logistic(numpy.dot(x, params[0]) + params[1])\n",
        "\n",
        "def model_loss(x, true_labels, params, _lambda=1.0):\n",
        "    \"\"\"Calculate the predictions and the loss w.r.t. the true values.\n",
        "    \n",
        "    Arguments\n",
        "    ---------\n",
        "    x : numpy.ndarray\n",
        "        The input of the model. The shape should be (n_images, n_total_pixels).\n",
        "    true_labels : numpy.ndarray\n",
        "        The true labels of the input images. Should be 1D and have length of\n",
        "        n_images.\n",
        "    params : a tuple/list of two elements\n",
        "        The first element is a 1D array with shape (n_total_pixels). The\n",
        "        second elenment is a scalar.\n",
        "    _lambda : float\n",
        "        The weight of the regularization term. Default: 1.0\n",
        "    \n",
        "    Returns\n",
        "    -------\n",
        "    loss : a scalar\n",
        "        The summed loss.\n",
        "    \"\"\"\n",
        "    pred = logistic_model(x, params)\n",
        "    \n",
        "    loss = - (\n",
        "        numpy.dot(true_labels, numpy.log(pred+1e-15)) +\n",
        "        numpy.dot(1.-true_labels, numpy.log(1.-pred+1e-15))\n",
        "    ) + _lambda * numpy.sum(params[0]**2)\n",
        "    \n",
        "    return loss\n",
        "\n",
        "def classify(x, params):\n",
        "    \"\"\"Use a logistic model to label data with 0 or/and 1.\n",
        "    \n",
        "    Arguments\n",
        "    ---------\n",
        "    x : numpy.ndarray\n",
        "        The input of the model. The shape should be (n_images, n_total_pixels).\n",
        "    params : a tuple/list of two elements\n",
        "        The first element is a 1D array with shape (n_total_pixels). The\n",
        "        second element is a scalar.\n",
        "    \n",
        "    Returns\n",
        "    -------\n",
        "    labels : numpy.ndarray\n",
        "        The shape of the label is the same with `probability`.\n",
        "    \n",
        "    Notes\n",
        "    -----\n",
        "    This function only works with multiple images, i.e., x has a shape of\n",
        "    (n_images, n_total_pixels).\n",
        "    \"\"\"\n",
        "    probabilities = logistic_model(x, params)\n",
        "    labels = (probabilities >= 0.5).astype(int)\n",
        "    return labels"
      ],
      "id": "c155c085",
      "execution_count": null,
      "outputs": []
    },
    {
      "cell_type": "code",
      "metadata": {
        "execution": {
          "iopub.execute_input": "2021-08-31T09:58:08.465172Z",
          "iopub.status.busy": "2021-08-31T09:58:08.464520Z",
          "iopub.status.idle": "2021-08-31T09:58:15.827511Z",
          "shell.execute_reply": "2021-08-31T09:58:15.826163Z",
          "shell.execute_reply.started": "2021-08-31T09:58:08.465129Z"
        },
        "papermill": {
          "duration": 0.035138,
          "end_time": "2021-08-31T10:00:04.420419",
          "exception": false,
          "start_time": "2021-08-31T10:00:04.385281",
          "status": "completed"
        },
        "tags": [],
        "id": "4c4aae90"
      },
      "source": [
        ""
      ],
      "id": "4c4aae90",
      "execution_count": null,
      "outputs": []
    },
    {
      "cell_type": "code",
      "metadata": {
        "execution": {
          "iopub.execute_input": "2021-08-31T10:00:04.494010Z",
          "iopub.status.busy": "2021-08-31T10:00:04.493328Z",
          "iopub.status.idle": "2021-08-31T10:00:04.500972Z",
          "shell.execute_reply": "2021-08-31T10:00:04.501449Z",
          "shell.execute_reply.started": "2021-08-31T09:57:38.046578Z"
        },
        "papermill": {
          "duration": 0.044851,
          "end_time": "2021-08-31T10:00:04.501634",
          "exception": false,
          "start_time": "2021-08-31T10:00:04.456783",
          "status": "completed"
        },
        "tags": [],
        "id": "f8401c2b"
      },
      "source": [
        "def performance(predictions, answers, beta=1.0):\n",
        "    \"\"\"Calculate precision, recall, and F-score.\n",
        "    \n",
        "    Arguments\n",
        "    ---------\n",
        "    predictions : numpy.ndarray of integers\n",
        "        The predicted labels.\n",
        "    answers : numpy.ndarray of integers\n",
        "        The true labels.\n",
        "    beta : float\n",
        "        A coefficient representing the weight of recall.\n",
        "    \n",
        "    Returns\n",
        "    -------\n",
        "    precision, recall, score, accuracy : float\n",
        "        Precision, recall, and F-score, accuracy respectively.\n",
        "    \"\"\"\n",
        "    true_idx = (answers == 1)  # the location where the answers are 1\n",
        "    false_idx = (answers == 0)  # the location where the answers are 0\n",
        "    \n",
        "    # true positive: answers are 1 and predictions are also 1\n",
        "    n_tp = numpy.count_nonzero(predictions[true_idx] == 1)\n",
        "    \n",
        "    # false positive: answers are 0 but predictions are 1\n",
        "    n_fp = numpy.count_nonzero(predictions[false_idx] == 1)\n",
        "    \n",
        "    # true negative: answers are 0 and predictions are also 0\n",
        "    n_tn = numpy.count_nonzero(predictions[false_idx] == 0)\n",
        "    \n",
        "    # false negative: answers are 1 but predictions are 0\n",
        "    n_fn = numpy.count_nonzero(predictions[true_idx] == 0)\n",
        "    \n",
        "    # precision, recall, and f-score\n",
        "    precision = n_tp / (n_tp + n_fp)\n",
        "    recall = n_tp / (n_tp + n_fn)\n",
        "    score = (\n",
        "        (1.0 + beta**2) * precision * recall / \n",
        "        (beta**2 * precision + recall)\n",
        "    )\n",
        "\n",
        "    accuracy = (n_tp + n_tn) / (n_tp + n_fn + n_fp + n_tn)\n",
        "\n",
        "    return precision, recall, score, accuracy\n"
      ],
      "id": "f8401c2b",
      "execution_count": null,
      "outputs": []
    },
    {
      "cell_type": "code",
      "metadata": {
        "execution": {
          "iopub.execute_input": "2021-08-31T10:00:04.573294Z",
          "iopub.status.busy": "2021-08-31T10:00:04.572533Z",
          "iopub.status.idle": "2021-08-31T10:00:04.576950Z",
          "shell.execute_reply": "2021-08-31T10:00:04.577492Z",
          "shell.execute_reply.started": "2021-08-31T09:58:59.637932Z"
        },
        "papermill": {
          "duration": 0.041827,
          "end_time": "2021-08-31T10:00:04.577658",
          "exception": false,
          "start_time": "2021-08-31T10:00:04.535831",
          "status": "completed"
        },
        "tags": [],
        "id": "c57600d8"
      },
      "source": [
        "# a function to get the gradients of a logistic model\n",
        "gradients = grad(model_loss, argnum=2)\n",
        "\n",
        "# initialize parameters\n",
        "w = numpy.zeros(X_train.shape[1], dtype=float)\n",
        "b = 0."
      ],
      "id": "c57600d8",
      "execution_count": null,
      "outputs": []
    },
    {
      "cell_type": "code",
      "metadata": {
        "execution": {
          "iopub.execute_input": "2021-08-31T10:00:04.684053Z",
          "iopub.status.busy": "2021-08-31T10:00:04.678720Z",
          "iopub.status.idle": "2021-08-31T10:00:05.644408Z",
          "shell.execute_reply": "2021-08-31T10:00:05.643661Z",
          "shell.execute_reply.started": "2021-08-31T09:59:00.351483Z"
        },
        "papermill": {
          "duration": 1.032216,
          "end_time": "2021-08-31T10:00:05.644718",
          "exception": true,
          "start_time": "2021-08-31T10:00:04.612502",
          "status": "failed"
        },
        "tags": [],
        "id": "49c2ceec",
        "outputId": "4054a581-cc0b-436a-a83e-87b1b7c0bded"
      },
      "source": [
        "# learning rate\n",
        "lr = 1e-5\n",
        "\n",
        "# a variable for the change in validation loss\n",
        "change = numpy.inf\n",
        "\n",
        "# a counter for optimization iterations\n",
        "i = 0\n",
        "\n",
        "# a variable to store the validation loss from the previous iteration\n",
        "old_val_loss = 1e-15\n",
        "\n",
        "# keep running if:\n",
        "#   1. we still see significant changes in validation loss\n",
        "#   2. iteration counter < 10000\n",
        "while change >= 1e-5 and i < 10000:\n",
        "    \n",
        "    # calculate gradients and use gradient descents\n",
        "    grads = gradients(X_train, y_train, (w, b))\n",
        "    w -= (grads[0] * lr)\n",
        "    b -= (grads[1] * lr)\n",
        "    \n",
        "    # validation loss\n",
        "    val_loss = model_loss(X_val, y_val, (w, b))\n",
        "    \n",
        "    # calculate f-scores against the validation dataset\n",
        "    pred_labels_val = classify(X_val, (w, b))\n",
        "    score = performance(pred_labels_val, y_val)\n",
        "\n",
        "    # calculate the chage in validation loss\n",
        "    change = numpy.abs((val_loss-old_val_loss)/old_val_loss)\n",
        "\n",
        "    # update the counter and old_val_loss\n",
        "    i += 1\n",
        "    old_val_loss = val_loss\n",
        "    \n",
        "    # print the progress every 10 steps\n",
        "    if i % 10 == 0:\n",
        "        print(\"{}...\".format(i), end=\"\")\n",
        "\n",
        "print(\"\")\n",
        "print(\"\")\n",
        "print(\"Upon optimization stopped:\")\n",
        "print(\"    Iterations:\", i)\n",
        "print(\"    Validation loss:\", val_loss)\n",
        "print(\"    Validation precision:\", score[0])\n",
        "print(\"    Validation recall:\", score[1])\n",
        "print(\"    Validation F-score:\", score[2])\n",
        "print(\"    Validation Accuracy:\", score[3])\n",
        "print(\"    Change in validation loss:\", change)"
      ],
      "id": "49c2ceec",
      "execution_count": null,
      "outputs": [
        {
          "ename": "TypeError",
          "evalue": "loop of ufunc does not support argument 0 of type ArrayBox which has no callable exp method",
          "output_type": "error",
          "traceback": [
            "\u001b[0;31m---------------------------------------------------------------------------\u001b[0m",
            "\u001b[0;31mAttributeError\u001b[0m                            Traceback (most recent call last)",
            "\u001b[0;31mAttributeError\u001b[0m: 'ArrayBox' object has no attribute 'exp'",
            "\nThe above exception was the direct cause of the following exception:\n",
            "\u001b[0;31mTypeError\u001b[0m                                 Traceback (most recent call last)",
            "\u001b[0;32m<ipython-input-22-15cecc591677>\u001b[0m in \u001b[0;36m<module>\u001b[0;34m\u001b[0m\n\u001b[1;32m     17\u001b[0m \u001b[0;34m\u001b[0m\u001b[0m\n\u001b[1;32m     18\u001b[0m     \u001b[0;31m# calculate gradients and use gradient descents\u001b[0m\u001b[0;34m\u001b[0m\u001b[0;34m\u001b[0m\u001b[0;34m\u001b[0m\u001b[0m\n\u001b[0;32m---> 19\u001b[0;31m     \u001b[0mgrads\u001b[0m \u001b[0;34m=\u001b[0m \u001b[0mgradients\u001b[0m\u001b[0;34m(\u001b[0m\u001b[0mX_train\u001b[0m\u001b[0;34m,\u001b[0m \u001b[0my_train\u001b[0m\u001b[0;34m,\u001b[0m \u001b[0;34m(\u001b[0m\u001b[0mw\u001b[0m\u001b[0;34m,\u001b[0m \u001b[0mb\u001b[0m\u001b[0;34m)\u001b[0m\u001b[0;34m)\u001b[0m\u001b[0;34m\u001b[0m\u001b[0;34m\u001b[0m\u001b[0m\n\u001b[0m\u001b[1;32m     20\u001b[0m     \u001b[0mw\u001b[0m \u001b[0;34m-=\u001b[0m \u001b[0;34m(\u001b[0m\u001b[0mgrads\u001b[0m\u001b[0;34m[\u001b[0m\u001b[0;36m0\u001b[0m\u001b[0;34m]\u001b[0m \u001b[0;34m*\u001b[0m \u001b[0mlr\u001b[0m\u001b[0;34m)\u001b[0m\u001b[0;34m\u001b[0m\u001b[0;34m\u001b[0m\u001b[0m\n\u001b[1;32m     21\u001b[0m     \u001b[0mb\u001b[0m \u001b[0;34m-=\u001b[0m \u001b[0;34m(\u001b[0m\u001b[0mgrads\u001b[0m\u001b[0;34m[\u001b[0m\u001b[0;36m1\u001b[0m\u001b[0;34m]\u001b[0m \u001b[0;34m*\u001b[0m \u001b[0mlr\u001b[0m\u001b[0;34m)\u001b[0m\u001b[0;34m\u001b[0m\u001b[0;34m\u001b[0m\u001b[0m\n",
            "\u001b[0;32m/opt/conda/lib/python3.7/site-packages/autograd/wrap_util.py\u001b[0m in \u001b[0;36mnary_f\u001b[0;34m(*args, **kwargs)\u001b[0m\n\u001b[1;32m     18\u001b[0m             \u001b[0;32melse\u001b[0m\u001b[0;34m:\u001b[0m\u001b[0;34m\u001b[0m\u001b[0;34m\u001b[0m\u001b[0m\n\u001b[1;32m     19\u001b[0m                 \u001b[0mx\u001b[0m \u001b[0;34m=\u001b[0m \u001b[0mtuple\u001b[0m\u001b[0;34m(\u001b[0m\u001b[0margs\u001b[0m\u001b[0;34m[\u001b[0m\u001b[0mi\u001b[0m\u001b[0;34m]\u001b[0m \u001b[0;32mfor\u001b[0m \u001b[0mi\u001b[0m \u001b[0;32min\u001b[0m \u001b[0margnum\u001b[0m\u001b[0;34m)\u001b[0m\u001b[0;34m\u001b[0m\u001b[0;34m\u001b[0m\u001b[0m\n\u001b[0;32m---> 20\u001b[0;31m             \u001b[0;32mreturn\u001b[0m \u001b[0munary_operator\u001b[0m\u001b[0;34m(\u001b[0m\u001b[0munary_f\u001b[0m\u001b[0;34m,\u001b[0m \u001b[0mx\u001b[0m\u001b[0;34m,\u001b[0m \u001b[0;34m*\u001b[0m\u001b[0mnary_op_args\u001b[0m\u001b[0;34m,\u001b[0m \u001b[0;34m**\u001b[0m\u001b[0mnary_op_kwargs\u001b[0m\u001b[0;34m)\u001b[0m\u001b[0;34m\u001b[0m\u001b[0;34m\u001b[0m\u001b[0m\n\u001b[0m\u001b[1;32m     21\u001b[0m         \u001b[0;32mreturn\u001b[0m \u001b[0mnary_f\u001b[0m\u001b[0;34m\u001b[0m\u001b[0;34m\u001b[0m\u001b[0m\n\u001b[1;32m     22\u001b[0m     \u001b[0;32mreturn\u001b[0m \u001b[0mnary_operator\u001b[0m\u001b[0;34m\u001b[0m\u001b[0;34m\u001b[0m\u001b[0m\n",
            "\u001b[0;32m/opt/conda/lib/python3.7/site-packages/autograd/differential_operators.py\u001b[0m in \u001b[0;36mgrad\u001b[0;34m(fun, x)\u001b[0m\n\u001b[1;32m     23\u001b[0m     \u001b[0marguments\u001b[0m \u001b[0;32mas\u001b[0m\u001b[0;31m \u001b[0m\u001b[0;31m`\u001b[0m\u001b[0mfun\u001b[0m\u001b[0;31m`\u001b[0m\u001b[0;34m,\u001b[0m \u001b[0mbut\u001b[0m \u001b[0mreturns\u001b[0m \u001b[0mthe\u001b[0m \u001b[0mgradient\u001b[0m \u001b[0minstead\u001b[0m\u001b[0;34m.\u001b[0m \u001b[0mThe\u001b[0m \u001b[0mfunction\u001b[0m\u001b[0;31m \u001b[0m\u001b[0;31m`\u001b[0m\u001b[0mfun\u001b[0m\u001b[0;31m`\u001b[0m\u001b[0;34m\u001b[0m\u001b[0;34m\u001b[0m\u001b[0m\n\u001b[1;32m     24\u001b[0m     should be scalar-valued. The gradient has the same type as the argument.\"\"\"\n\u001b[0;32m---> 25\u001b[0;31m     \u001b[0mvjp\u001b[0m\u001b[0;34m,\u001b[0m \u001b[0mans\u001b[0m \u001b[0;34m=\u001b[0m \u001b[0m_make_vjp\u001b[0m\u001b[0;34m(\u001b[0m\u001b[0mfun\u001b[0m\u001b[0;34m,\u001b[0m \u001b[0mx\u001b[0m\u001b[0;34m)\u001b[0m\u001b[0;34m\u001b[0m\u001b[0;34m\u001b[0m\u001b[0m\n\u001b[0m\u001b[1;32m     26\u001b[0m     \u001b[0;32mif\u001b[0m \u001b[0;32mnot\u001b[0m \u001b[0mvspace\u001b[0m\u001b[0;34m(\u001b[0m\u001b[0mans\u001b[0m\u001b[0;34m)\u001b[0m\u001b[0;34m.\u001b[0m\u001b[0msize\u001b[0m \u001b[0;34m==\u001b[0m \u001b[0;36m1\u001b[0m\u001b[0;34m:\u001b[0m\u001b[0;34m\u001b[0m\u001b[0;34m\u001b[0m\u001b[0m\n\u001b[1;32m     27\u001b[0m         raise TypeError(\"Grad only applies to real scalar-output functions. \"\n",
            "\u001b[0;32m/opt/conda/lib/python3.7/site-packages/autograd/core.py\u001b[0m in \u001b[0;36mmake_vjp\u001b[0;34m(fun, x)\u001b[0m\n\u001b[1;32m      8\u001b[0m \u001b[0;32mdef\u001b[0m \u001b[0mmake_vjp\u001b[0m\u001b[0;34m(\u001b[0m\u001b[0mfun\u001b[0m\u001b[0;34m,\u001b[0m \u001b[0mx\u001b[0m\u001b[0;34m)\u001b[0m\u001b[0;34m:\u001b[0m\u001b[0;34m\u001b[0m\u001b[0;34m\u001b[0m\u001b[0m\n\u001b[1;32m      9\u001b[0m     \u001b[0mstart_node\u001b[0m \u001b[0;34m=\u001b[0m \u001b[0mVJPNode\u001b[0m\u001b[0;34m.\u001b[0m\u001b[0mnew_root\u001b[0m\u001b[0;34m(\u001b[0m\u001b[0;34m)\u001b[0m\u001b[0;34m\u001b[0m\u001b[0;34m\u001b[0m\u001b[0m\n\u001b[0;32m---> 10\u001b[0;31m     \u001b[0mend_value\u001b[0m\u001b[0;34m,\u001b[0m \u001b[0mend_node\u001b[0m \u001b[0;34m=\u001b[0m  \u001b[0mtrace\u001b[0m\u001b[0;34m(\u001b[0m\u001b[0mstart_node\u001b[0m\u001b[0;34m,\u001b[0m \u001b[0mfun\u001b[0m\u001b[0;34m,\u001b[0m \u001b[0mx\u001b[0m\u001b[0;34m)\u001b[0m\u001b[0;34m\u001b[0m\u001b[0;34m\u001b[0m\u001b[0m\n\u001b[0m\u001b[1;32m     11\u001b[0m     \u001b[0;32mif\u001b[0m \u001b[0mend_node\u001b[0m \u001b[0;32mis\u001b[0m \u001b[0;32mNone\u001b[0m\u001b[0;34m:\u001b[0m\u001b[0;34m\u001b[0m\u001b[0;34m\u001b[0m\u001b[0m\n\u001b[1;32m     12\u001b[0m         \u001b[0;32mdef\u001b[0m \u001b[0mvjp\u001b[0m\u001b[0;34m(\u001b[0m\u001b[0mg\u001b[0m\u001b[0;34m)\u001b[0m\u001b[0;34m:\u001b[0m \u001b[0;32mreturn\u001b[0m \u001b[0mvspace\u001b[0m\u001b[0;34m(\u001b[0m\u001b[0mx\u001b[0m\u001b[0;34m)\u001b[0m\u001b[0;34m.\u001b[0m\u001b[0mzeros\u001b[0m\u001b[0;34m(\u001b[0m\u001b[0;34m)\u001b[0m\u001b[0;34m\u001b[0m\u001b[0;34m\u001b[0m\u001b[0m\n",
            "\u001b[0;32m/opt/conda/lib/python3.7/site-packages/autograd/tracer.py\u001b[0m in \u001b[0;36mtrace\u001b[0;34m(start_node, fun, x)\u001b[0m\n\u001b[1;32m      8\u001b[0m     \u001b[0;32mwith\u001b[0m \u001b[0mtrace_stack\u001b[0m\u001b[0;34m.\u001b[0m\u001b[0mnew_trace\u001b[0m\u001b[0;34m(\u001b[0m\u001b[0;34m)\u001b[0m \u001b[0;32mas\u001b[0m \u001b[0mt\u001b[0m\u001b[0;34m:\u001b[0m\u001b[0;34m\u001b[0m\u001b[0;34m\u001b[0m\u001b[0m\n\u001b[1;32m      9\u001b[0m         \u001b[0mstart_box\u001b[0m \u001b[0;34m=\u001b[0m \u001b[0mnew_box\u001b[0m\u001b[0;34m(\u001b[0m\u001b[0mx\u001b[0m\u001b[0;34m,\u001b[0m \u001b[0mt\u001b[0m\u001b[0;34m,\u001b[0m \u001b[0mstart_node\u001b[0m\u001b[0;34m)\u001b[0m\u001b[0;34m\u001b[0m\u001b[0;34m\u001b[0m\u001b[0m\n\u001b[0;32m---> 10\u001b[0;31m         \u001b[0mend_box\u001b[0m \u001b[0;34m=\u001b[0m \u001b[0mfun\u001b[0m\u001b[0;34m(\u001b[0m\u001b[0mstart_box\u001b[0m\u001b[0;34m)\u001b[0m\u001b[0;34m\u001b[0m\u001b[0;34m\u001b[0m\u001b[0m\n\u001b[0m\u001b[1;32m     11\u001b[0m         \u001b[0;32mif\u001b[0m \u001b[0misbox\u001b[0m\u001b[0;34m(\u001b[0m\u001b[0mend_box\u001b[0m\u001b[0;34m)\u001b[0m \u001b[0;32mand\u001b[0m \u001b[0mend_box\u001b[0m\u001b[0;34m.\u001b[0m\u001b[0m_trace\u001b[0m \u001b[0;34m==\u001b[0m \u001b[0mstart_box\u001b[0m\u001b[0;34m.\u001b[0m\u001b[0m_trace\u001b[0m\u001b[0;34m:\u001b[0m\u001b[0;34m\u001b[0m\u001b[0;34m\u001b[0m\u001b[0m\n\u001b[1;32m     12\u001b[0m             \u001b[0;32mreturn\u001b[0m \u001b[0mend_box\u001b[0m\u001b[0;34m.\u001b[0m\u001b[0m_value\u001b[0m\u001b[0;34m,\u001b[0m \u001b[0mend_box\u001b[0m\u001b[0;34m.\u001b[0m\u001b[0m_node\u001b[0m\u001b[0;34m\u001b[0m\u001b[0;34m\u001b[0m\u001b[0m\n",
            "\u001b[0;32m/opt/conda/lib/python3.7/site-packages/autograd/wrap_util.py\u001b[0m in \u001b[0;36munary_f\u001b[0;34m(x)\u001b[0m\n\u001b[1;32m     13\u001b[0m                 \u001b[0;32melse\u001b[0m\u001b[0;34m:\u001b[0m\u001b[0;34m\u001b[0m\u001b[0;34m\u001b[0m\u001b[0m\n\u001b[1;32m     14\u001b[0m                     \u001b[0msubargs\u001b[0m \u001b[0;34m=\u001b[0m \u001b[0msubvals\u001b[0m\u001b[0;34m(\u001b[0m\u001b[0margs\u001b[0m\u001b[0;34m,\u001b[0m \u001b[0mzip\u001b[0m\u001b[0;34m(\u001b[0m\u001b[0margnum\u001b[0m\u001b[0;34m,\u001b[0m \u001b[0mx\u001b[0m\u001b[0;34m)\u001b[0m\u001b[0;34m)\u001b[0m\u001b[0;34m\u001b[0m\u001b[0;34m\u001b[0m\u001b[0m\n\u001b[0;32m---> 15\u001b[0;31m                 \u001b[0;32mreturn\u001b[0m \u001b[0mfun\u001b[0m\u001b[0;34m(\u001b[0m\u001b[0;34m*\u001b[0m\u001b[0msubargs\u001b[0m\u001b[0;34m,\u001b[0m \u001b[0;34m**\u001b[0m\u001b[0mkwargs\u001b[0m\u001b[0;34m)\u001b[0m\u001b[0;34m\u001b[0m\u001b[0;34m\u001b[0m\u001b[0m\n\u001b[0m\u001b[1;32m     16\u001b[0m             \u001b[0;32mif\u001b[0m \u001b[0misinstance\u001b[0m\u001b[0;34m(\u001b[0m\u001b[0margnum\u001b[0m\u001b[0;34m,\u001b[0m \u001b[0mint\u001b[0m\u001b[0;34m)\u001b[0m\u001b[0;34m:\u001b[0m\u001b[0;34m\u001b[0m\u001b[0;34m\u001b[0m\u001b[0m\n\u001b[1;32m     17\u001b[0m                 \u001b[0mx\u001b[0m \u001b[0;34m=\u001b[0m \u001b[0margs\u001b[0m\u001b[0;34m[\u001b[0m\u001b[0margnum\u001b[0m\u001b[0;34m]\u001b[0m\u001b[0;34m\u001b[0m\u001b[0;34m\u001b[0m\u001b[0m\n",
            "\u001b[0;32m<ipython-input-19-5200447ec3e9>\u001b[0m in \u001b[0;36mmodel_loss\u001b[0;34m(x, true_labels, params, _lambda)\u001b[0m\n\u001b[1;32m     61\u001b[0m         \u001b[0mThe\u001b[0m \u001b[0msummed\u001b[0m \u001b[0mloss\u001b[0m\u001b[0;34m.\u001b[0m\u001b[0;34m\u001b[0m\u001b[0;34m\u001b[0m\u001b[0m\n\u001b[1;32m     62\u001b[0m     \"\"\"\n\u001b[0;32m---> 63\u001b[0;31m     \u001b[0mpred\u001b[0m \u001b[0;34m=\u001b[0m \u001b[0mlogistic_model\u001b[0m\u001b[0;34m(\u001b[0m\u001b[0mx\u001b[0m\u001b[0;34m,\u001b[0m \u001b[0mparams\u001b[0m\u001b[0;34m)\u001b[0m\u001b[0;34m\u001b[0m\u001b[0;34m\u001b[0m\u001b[0m\n\u001b[0m\u001b[1;32m     64\u001b[0m \u001b[0;34m\u001b[0m\u001b[0m\n\u001b[1;32m     65\u001b[0m     loss = - (\n",
            "\u001b[0;32m<ipython-input-19-5200447ec3e9>\u001b[0m in \u001b[0;36mlogistic_model\u001b[0;34m(x, params)\u001b[0m\n\u001b[1;32m     38\u001b[0m         \u001b[0mThe\u001b[0m \u001b[0moutput\u001b[0m \u001b[0;32mis\u001b[0m \u001b[0ma\u001b[0m \u001b[0;36m1\u001b[0m\u001b[0mD\u001b[0m \u001b[0marray\u001b[0m \u001b[0;32mwith\u001b[0m \u001b[0mlength\u001b[0m \u001b[0mn_samples\u001b[0m\u001b[0;34m.\u001b[0m\u001b[0;34m\u001b[0m\u001b[0;34m\u001b[0m\u001b[0m\n\u001b[1;32m     39\u001b[0m     \"\"\"\n\u001b[0;32m---> 40\u001b[0;31m     \u001b[0;32mreturn\u001b[0m \u001b[0mlogistic\u001b[0m\u001b[0;34m(\u001b[0m\u001b[0mnumpy\u001b[0m\u001b[0;34m.\u001b[0m\u001b[0mdot\u001b[0m\u001b[0;34m(\u001b[0m\u001b[0mx\u001b[0m\u001b[0;34m,\u001b[0m \u001b[0mparams\u001b[0m\u001b[0;34m[\u001b[0m\u001b[0;36m0\u001b[0m\u001b[0;34m]\u001b[0m\u001b[0;34m)\u001b[0m \u001b[0;34m+\u001b[0m \u001b[0mparams\u001b[0m\u001b[0;34m[\u001b[0m\u001b[0;36m1\u001b[0m\u001b[0;34m]\u001b[0m\u001b[0;34m)\u001b[0m\u001b[0;34m\u001b[0m\u001b[0;34m\u001b[0m\u001b[0m\n\u001b[0m\u001b[1;32m     41\u001b[0m \u001b[0;34m\u001b[0m\u001b[0m\n\u001b[1;32m     42\u001b[0m \u001b[0;32mdef\u001b[0m \u001b[0mmodel_loss\u001b[0m\u001b[0;34m(\u001b[0m\u001b[0mx\u001b[0m\u001b[0;34m,\u001b[0m \u001b[0mtrue_labels\u001b[0m\u001b[0;34m,\u001b[0m \u001b[0mparams\u001b[0m\u001b[0;34m,\u001b[0m \u001b[0m_lambda\u001b[0m\u001b[0;34m=\u001b[0m\u001b[0;36m1.0\u001b[0m\u001b[0;34m)\u001b[0m\u001b[0;34m:\u001b[0m\u001b[0;34m\u001b[0m\u001b[0;34m\u001b[0m\u001b[0m\n",
            "\u001b[0;32m<ipython-input-19-5200447ec3e9>\u001b[0m in \u001b[0;36mlogistic\u001b[0;34m(x)\u001b[0m\n\u001b[1;32m     17\u001b[0m     \u001b[0mhas\u001b[0m \u001b[0mthe\u001b[0m \u001b[0msame\u001b[0m \u001b[0mshape\u001b[0m \u001b[0;32mas\u001b[0m \u001b[0mthe\u001b[0m \u001b[0minput\u001b[0m\u001b[0;34m.\u001b[0m\u001b[0;34m\u001b[0m\u001b[0;34m\u001b[0m\u001b[0m\n\u001b[1;32m     18\u001b[0m     \"\"\"\n\u001b[0;32m---> 19\u001b[0;31m     \u001b[0;32mreturn\u001b[0m \u001b[0;36m1.\u001b[0m \u001b[0;34m/\u001b[0m \u001b[0;34m(\u001b[0m\u001b[0;36m1.\u001b[0m \u001b[0;34m+\u001b[0m \u001b[0mnumpy\u001b[0m\u001b[0;34m.\u001b[0m\u001b[0mexp\u001b[0m\u001b[0;34m(\u001b[0m\u001b[0;34m-\u001b[0m\u001b[0mx\u001b[0m\u001b[0;34m)\u001b[0m\u001b[0;34m)\u001b[0m\u001b[0;34m\u001b[0m\u001b[0;34m\u001b[0m\u001b[0m\n\u001b[0m\u001b[1;32m     20\u001b[0m \u001b[0;34m\u001b[0m\u001b[0m\n\u001b[1;32m     21\u001b[0m \u001b[0;32mdef\u001b[0m \u001b[0mlogistic_model\u001b[0m\u001b[0;34m(\u001b[0m\u001b[0mx\u001b[0m\u001b[0;34m,\u001b[0m \u001b[0mparams\u001b[0m\u001b[0;34m)\u001b[0m\u001b[0;34m:\u001b[0m\u001b[0;34m\u001b[0m\u001b[0;34m\u001b[0m\u001b[0m\n",
            "\u001b[0;31mTypeError\u001b[0m: loop of ufunc does not support argument 0 of type ArrayBox which has no callable exp method"
          ]
        }
      ]
    },
    {
      "cell_type": "code",
      "metadata": {
        "execution": {
          "iopub.execute_input": "2021-08-31T09:59:11.710780Z",
          "iopub.status.busy": "2021-08-31T09:59:11.710228Z",
          "iopub.status.idle": "2021-08-31T09:59:11.715636Z",
          "shell.execute_reply": "2021-08-31T09:59:11.714694Z",
          "shell.execute_reply.started": "2021-08-31T09:59:11.710743Z"
        },
        "papermill": {
          "duration": null,
          "end_time": null,
          "exception": null,
          "start_time": null,
          "status": "pending"
        },
        "tags": [],
        "id": "333f07ea"
      },
      "source": [
        "# final accuracy\n",
        "pred_labels_test = classify(X_test, (w, b))\n"
      ],
      "id": "333f07ea",
      "execution_count": null,
      "outputs": []
    },
    {
      "cell_type": "markdown",
      "metadata": {
        "id": "HhKblKDqXdhN"
      },
      "source": [
        "# 데이터셋 리더보드 채점형식에 맞게 저장"
      ],
      "id": "HhKblKDqXdhN"
    },
    {
      "cell_type": "code",
      "metadata": {
        "execution": {
          "iopub.execute_input": "2021-08-31T09:59:13.068227Z",
          "iopub.status.busy": "2021-08-31T09:59:13.067655Z",
          "iopub.status.idle": "2021-08-31T09:59:13.081808Z",
          "shell.execute_reply": "2021-08-31T09:59:13.080686Z",
          "shell.execute_reply.started": "2021-08-31T09:59:13.068187Z"
        },
        "papermill": {
          "duration": null,
          "end_time": null,
          "exception": null,
          "start_time": null,
          "status": "pending"
        },
        "tags": [],
        "colab": {
          "base_uri": "https://localhost:8080/",
          "height": 247
        },
        "id": "dd5e1424",
        "outputId": "036be734-e516-4c1c-9f7d-571afd113dfb"
      },
      "source": [
        "from datetime import datetime\n",
        "\n",
        "output = pd.DataFrame(pred_labels_test,columns = [\"quality\"])\n",
        "output = output.rename_axis('ID').reset_index()\n",
        "output[\"ID\"] += 1\n",
        "\n",
        "now = datetime.now().strftime(\"%Y%m%d-%H%M%S\")\n",
        "\n",
        "output.to_csv(\"output_\"+now+\".csv\",index=False)"
      ],
      "id": "dd5e1424",
      "execution_count": 1,
      "outputs": [
        {
          "output_type": "error",
          "ename": "NameError",
          "evalue": "ignored",
          "traceback": [
            "\u001b[0;31m---------------------------------------------------------------------------\u001b[0m",
            "\u001b[0;31mNameError\u001b[0m                                 Traceback (most recent call last)",
            "\u001b[0;32m<ipython-input-1-efa24363276a>\u001b[0m in \u001b[0;36m<module>\u001b[0;34m()\u001b[0m\n\u001b[0;32m----> 1\u001b[0;31m \u001b[0moutput\u001b[0m \u001b[0;34m=\u001b[0m \u001b[0mpd\u001b[0m\u001b[0;34m.\u001b[0m\u001b[0mDataFrame\u001b[0m\u001b[0;34m(\u001b[0m\u001b[0mpred_labels_test\u001b[0m\u001b[0;34m,\u001b[0m\u001b[0mcolumns\u001b[0m \u001b[0;34m=\u001b[0m \u001b[0;34m[\u001b[0m\u001b[0;34m\"quality\"\u001b[0m\u001b[0;34m]\u001b[0m\u001b[0;34m)\u001b[0m\u001b[0;34m\u001b[0m\u001b[0;34m\u001b[0m\u001b[0m\n\u001b[0m\u001b[1;32m      2\u001b[0m \u001b[0moutput\u001b[0m \u001b[0;34m=\u001b[0m \u001b[0moutput\u001b[0m\u001b[0;34m.\u001b[0m\u001b[0mrename_axis\u001b[0m\u001b[0;34m(\u001b[0m\u001b[0;34m'ID'\u001b[0m\u001b[0;34m)\u001b[0m\u001b[0;34m.\u001b[0m\u001b[0mreset_index\u001b[0m\u001b[0;34m(\u001b[0m\u001b[0;34m)\u001b[0m\u001b[0;34m\u001b[0m\u001b[0;34m\u001b[0m\u001b[0m\n\u001b[1;32m      3\u001b[0m \u001b[0moutput\u001b[0m\u001b[0;34m[\u001b[0m\u001b[0;34m\"ID\"\u001b[0m\u001b[0;34m]\u001b[0m \u001b[0;34m+=\u001b[0m \u001b[0;36m1\u001b[0m\u001b[0;34m\u001b[0m\u001b[0;34m\u001b[0m\u001b[0m\n\u001b[1;32m      4\u001b[0m \u001b[0;34m\u001b[0m\u001b[0m\n\u001b[1;32m      5\u001b[0m \u001b[0mnow\u001b[0m \u001b[0;34m=\u001b[0m \u001b[0mdatetime\u001b[0m\u001b[0;34m.\u001b[0m\u001b[0mnow\u001b[0m\u001b[0;34m(\u001b[0m\u001b[0;34m)\u001b[0m\u001b[0;34m.\u001b[0m\u001b[0mstrftime\u001b[0m\u001b[0;34m(\u001b[0m\u001b[0;34m\"%Y%m%d-%H%M%S\"\u001b[0m\u001b[0;34m)\u001b[0m\u001b[0;34m\u001b[0m\u001b[0;34m\u001b[0m\u001b[0m\n",
            "\u001b[0;31mNameError\u001b[0m: name 'pd' is not defined"
          ]
        }
      ]
    },
    {
      "cell_type": "markdown",
      "metadata": {
        "papermill": {
          "duration": null,
          "end_time": null,
          "exception": null,
          "start_time": null,
          "status": "pending"
        },
        "tags": [],
        "id": "7cc222af"
      },
      "source": [
        "#"
      ],
      "id": "7cc222af"
    },
    {
      "cell_type": "code",
      "metadata": {
        "papermill": {
          "duration": null,
          "end_time": null,
          "exception": null,
          "start_time": null,
          "status": "pending"
        },
        "tags": [],
        "id": "f17589a4"
      },
      "source": [
        ""
      ],
      "id": "f17589a4",
      "execution_count": null,
      "outputs": []
    }
  ]
}